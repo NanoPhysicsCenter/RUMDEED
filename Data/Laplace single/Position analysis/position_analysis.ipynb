{
 "cells": [
  {
   "cell_type": "markdown",
   "id": "3157035f",
   "metadata": {},
   "source": [
    "<h1>Step Size Analysis"
   ]
  },
  {
   "cell_type": "markdown",
   "id": "63329e0d",
   "metadata": {},
   "source": [
    "<h4>Imports"
   ]
  },
  {
   "cell_type": "code",
   "execution_count": 2,
   "id": "b8601695",
   "metadata": {},
   "outputs": [
    {
     "name": "stderr",
     "output_type": "stream",
     "text": [
      "/usr/lib/python3/dist-packages/scipy/__init__.py:146: UserWarning: A NumPy version >=1.17.3 and <1.25.0 is required for this version of SciPy (detected version 1.25.0\n",
      "  warnings.warn(f\"A NumPy version >={np_minversion} and <{np_maxversion}\"\n"
     ]
    }
   ],
   "source": [
    "# IMPORTS\n",
    "\n",
    "import numpy as np\n",
    "import numpy.linalg as npla\n",
    "import pandas as pd\n",
    "\n",
    "import math as m\n",
    "import statistics as stat\n",
    "\n",
    "import matplotlib\n",
    "import matplotlib.pyplot as plt\n",
    "import matplotlib.animation as animation\n",
    "\n",
    "import seaborn as sns\n",
    "sns.set_theme()"
   ]
  },
  {
   "cell_type": "markdown",
   "id": "f702c4ee",
   "metadata": {},
   "source": [
    "<h4>Data"
   ]
  },
  {
   "cell_type": "code",
   "execution_count": 5,
   "id": "c4f8bae2",
   "metadata": {},
   "outputs": [
    {
     "name": "stdout",
     "output_type": "stream",
     "text": [
      "[-0.43803387 -2.17561146  4.38240896  3.81056127  1.20811303]\n",
      "[-3.9455285   3.45722898 -0.54413183  2.86158987  4.4734462 ]\n",
      "[5.49966623 5.20188697 5.57081697 5.03937126 5.622078  ]\n"
     ]
    }
   ],
   "source": [
    "x = np.random.uniform(-5, 5, 5)\n",
    "y = np.random.uniform(-5, 5, 5)\n",
    "z = np.random.uniform(5, 6, 5)\n",
    "print(x)\n",
    "print(y)\n",
    "print(z)"
   ]
  },
  {
   "cell_type": "markdown",
   "id": "e65e9b2b",
   "metadata": {},
   "source": [
    "<h4>Analysis"
   ]
  }
 ],
 "metadata": {
  "kernelspec": {
   "display_name": "Python 3",
   "language": "python",
   "name": "python3"
  },
  "language_info": {
   "codemirror_mode": {
    "name": "ipython",
    "version": 3
   },
   "file_extension": ".py",
   "mimetype": "text/x-python",
   "name": "python",
   "nbconvert_exporter": "python",
   "pygments_lexer": "ipython3",
   "version": "3.10.12"
  }
 },
 "nbformat": 4,
 "nbformat_minor": 5
}
