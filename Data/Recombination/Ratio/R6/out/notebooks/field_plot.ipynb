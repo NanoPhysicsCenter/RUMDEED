{
 "cells": [
  {
   "cell_type": "markdown",
   "metadata": {},
   "source": [
    "<h1>Current Plot<h1>"
   ]
  },
  {
   "cell_type": "markdown",
   "metadata": {},
   "source": [
    "<h3>Import<h3>"
   ]
  },
  {
   "cell_type": "code",
   "execution_count": 1,
   "metadata": {},
   "outputs": [
    {
     "name": "stderr",
     "output_type": "stream",
     "text": [
      "/usr/lib/python3/dist-packages/scipy/__init__.py:146: UserWarning: A NumPy version >=1.17.3 and <1.25.0 is required for this version of SciPy (detected version 1.25.0\n",
      "  warnings.warn(f\"A NumPy version >={np_minversion} and <{np_maxversion}\"\n"
     ]
    }
   ],
   "source": [
    "# IMPORTS\n",
    "\n",
    "import numpy as np\n",
    "import pandas as pd\n",
    "\n",
    "import math as m\n",
    "import statistics as stat\n",
    "\n",
    "import matplotlib\n",
    "import matplotlib.pyplot as plt\n",
    "import matplotlib.animation as animation\n",
    "\n",
    "import seaborn as sns\n",
    "sns.set_theme()\n"
   ]
  },
  {
   "cell_type": "markdown",
   "metadata": {},
   "source": [
    "<h3>Plot<h3>"
   ]
  },
  {
   "cell_type": "code",
   "execution_count": 2,
   "metadata": {},
   "outputs": [
    {
     "ename": "FileNotFoundError",
     "evalue": "[Errno 2] No such file or directory: '../out/lp_field_0.bin'",
     "output_type": "error",
     "traceback": [
      "\u001b[0;31m---------------------------------------------------------------------------\u001b[0m",
      "\u001b[0;31mFileNotFoundError\u001b[0m                         Traceback (most recent call last)",
      "Cell \u001b[0;32mIn[2], line 4\u001b[0m\n\u001b[1;32m      2\u001b[0m lp_filename \u001b[38;5;241m=\u001b[39m \u001b[38;5;124mf\u001b[39m\u001b[38;5;124m'\u001b[39m\u001b[38;5;124m../out/lp_field_0.bin\u001b[39m\u001b[38;5;124m'\u001b[39m\n\u001b[1;32m      3\u001b[0m lp_dt_abs_type \u001b[38;5;241m=\u001b[39m np\u001b[38;5;241m.\u001b[39mdtype([(\u001b[38;5;124m'\u001b[39m\u001b[38;5;124mi\u001b[39m\u001b[38;5;124m'\u001b[39m, np\u001b[38;5;241m.\u001b[39mint64), (\u001b[38;5;124m'\u001b[39m\u001b[38;5;124mj\u001b[39m\u001b[38;5;124m'\u001b[39m, np\u001b[38;5;241m.\u001b[39mint64), (\u001b[38;5;124m'\u001b[39m\u001b[38;5;124mfield\u001b[39m\u001b[38;5;124m'\u001b[39m, np\u001b[38;5;241m.\u001b[39mfloat64), (\u001b[38;5;124m'\u001b[39m\u001b[38;5;124memit\u001b[39m\u001b[38;5;124m'\u001b[39m,np\u001b[38;5;241m.\u001b[39mint64)])\n\u001b[0;32m----> 4\u001b[0m lp_data_mem_abs \u001b[38;5;241m=\u001b[39m \u001b[43mnp\u001b[49m\u001b[38;5;241;43m.\u001b[39;49m\u001b[43mmemmap\u001b[49m\u001b[43m(\u001b[49m\u001b[43mlp_filename\u001b[49m\u001b[43m,\u001b[49m\u001b[43m \u001b[49m\u001b[43mdtype\u001b[49m\u001b[38;5;241;43m=\u001b[39;49m\u001b[43mlp_dt_abs_type\u001b[49m\u001b[43m,\u001b[49m\u001b[43m \u001b[49m\u001b[43mmode\u001b[49m\u001b[38;5;241;43m=\u001b[39;49m\u001b[38;5;124;43m'\u001b[39;49m\u001b[38;5;124;43mr\u001b[39;49m\u001b[38;5;124;43m'\u001b[39;49m\u001b[43m,\u001b[49m\u001b[43m \u001b[49m\u001b[43morder\u001b[49m\u001b[38;5;241;43m=\u001b[39;49m\u001b[38;5;124;43m'\u001b[39;49m\u001b[38;5;124;43mF\u001b[39;49m\u001b[38;5;124;43m'\u001b[39;49m\u001b[43m)\u001b[49m\n\u001b[1;32m      5\u001b[0m lp_data \u001b[38;5;241m=\u001b[39m pd\u001b[38;5;241m.\u001b[39mDataFrame\u001b[38;5;241m.\u001b[39mfrom_records(data\u001b[38;5;241m=\u001b[39mlp_data_mem_abs, columns\u001b[38;5;241m=\u001b[39mlp_data_mem_abs\u001b[38;5;241m.\u001b[39mdtype\u001b[38;5;241m.\u001b[39mnames)\n\u001b[1;32m      7\u001b[0m ic_filename \u001b[38;5;241m=\u001b[39m \u001b[38;5;124mf\u001b[39m\u001b[38;5;124m'\u001b[39m\u001b[38;5;124m../out/ic_field_0.bin\u001b[39m\u001b[38;5;124m'\u001b[39m\n",
      "File \u001b[0;32m~/.local/lib/python3.10/site-packages/numpy/core/memmap.py:229\u001b[0m, in \u001b[0;36mmemmap.__new__\u001b[0;34m(subtype, filename, dtype, mode, offset, shape, order)\u001b[0m\n\u001b[1;32m    227\u001b[0m     f_ctx \u001b[38;5;241m=\u001b[39m nullcontext(filename)\n\u001b[1;32m    228\u001b[0m \u001b[38;5;28;01melse\u001b[39;00m:\n\u001b[0;32m--> 229\u001b[0m     f_ctx \u001b[38;5;241m=\u001b[39m \u001b[38;5;28;43mopen\u001b[39;49m\u001b[43m(\u001b[49m\u001b[43mos_fspath\u001b[49m\u001b[43m(\u001b[49m\u001b[43mfilename\u001b[49m\u001b[43m)\u001b[49m\u001b[43m,\u001b[49m\u001b[43m \u001b[49m\u001b[43m(\u001b[49m\u001b[38;5;124;43m'\u001b[39;49m\u001b[38;5;124;43mr\u001b[39;49m\u001b[38;5;124;43m'\u001b[39;49m\u001b[43m \u001b[49m\u001b[38;5;28;43;01mif\u001b[39;49;00m\u001b[43m \u001b[49m\u001b[43mmode\u001b[49m\u001b[43m \u001b[49m\u001b[38;5;241;43m==\u001b[39;49m\u001b[43m \u001b[49m\u001b[38;5;124;43m'\u001b[39;49m\u001b[38;5;124;43mc\u001b[39;49m\u001b[38;5;124;43m'\u001b[39;49m\u001b[43m \u001b[49m\u001b[38;5;28;43;01melse\u001b[39;49;00m\u001b[43m \u001b[49m\u001b[43mmode\u001b[49m\u001b[43m)\u001b[49m\u001b[38;5;241;43m+\u001b[39;49m\u001b[38;5;124;43m'\u001b[39;49m\u001b[38;5;124;43mb\u001b[39;49m\u001b[38;5;124;43m'\u001b[39;49m\u001b[43m)\u001b[49m\n\u001b[1;32m    231\u001b[0m \u001b[38;5;28;01mwith\u001b[39;00m f_ctx \u001b[38;5;28;01mas\u001b[39;00m fid:\n\u001b[1;32m    232\u001b[0m     fid\u001b[38;5;241m.\u001b[39mseek(\u001b[38;5;241m0\u001b[39m, \u001b[38;5;241m2\u001b[39m)\n",
      "\u001b[0;31mFileNotFoundError\u001b[0m: [Errno 2] No such file or directory: '../out/lp_field_0.bin'"
     ]
    }
   ],
   "source": [
    "# Memory map file\n",
    "lp_filename = f'../out/lp_field_0.bin'\n",
    "lp_dt_abs_type = np.dtype([('i', np.int64), ('j', np.int64), ('field', np.float64), ('emit',np.int64)])\n",
    "lp_data_mem_abs = np.memmap(lp_filename, dtype=lp_dt_abs_type, mode='r', order='F')\n",
    "lp_data = pd.DataFrame.from_records(data=lp_data_mem_abs, columns=lp_data_mem_abs.dtype.names)\n",
    "\n",
    "ic_filename = f'../out/ic_field_0.bin'\n",
    "ic_dt_abs_type = np.dtype([('i', np.int64), ('j', np.int64), ('field', np.float64), ('emit',np.int64)])\n",
    "ic_data_mem_abs = np.memmap(ic_filename, dtype=ic_dt_abs_type, mode='r', order='F')\n",
    "ic_data = pd.DataFrame.from_records(data=ic_data_mem_abs, columns=ic_data_mem_abs.dtype.names)\n",
    "\n",
    "mse = 0\n",
    "relative_rms = 0\n",
    "Nx = 60; Ny = 60\n",
    "lp_field = np.zeros((Nx,Ny))\n",
    "ic_field = np.zeros((Nx,Ny))\n",
    "x = np.linspace(-5,5,Nx)\n",
    "y = np.linspace(-5,5,Ny)\n",
    "X, Y = np.meshgrid(x,y)\n",
    "X = X.T; Y = Y.T\n",
    "for k in range(Nx*Ny):\n",
    "    i = lp_data['i'][k]\n",
    "    j = lp_data['j'][k]\n",
    "\n",
    "    lp_field[i][j] = lp_data['field'][k]*1e-6\n",
    "    ic_field[i][j] = ic_data['field'][k]*1e-6\n",
    "\n",
    "    mse += (lp_field[i][j]-ic_field[i][j])**2/(Nx*Ny)\n",
    "    # print(i,j,lp_field[i][j])\n",
    "\n",
    "rmse = m.sqrt(mse)\n",
    "\n",
    "print(f'Laplace average field: {lp_field.mean()} MV/m')\n",
    "print(f'Image charge average field: {ic_field.mean()} MV/m')\n",
    "print(f'RMS: {rmse} MV/m')\n",
    "# print(f'Relative error of averages: {abs((lp_field.mean()-ic_field.mean())/ic_field.mean())*100} %')\n",
    "print(f'Relative RMS: {rmse/abs(ic_field.mean())*100} %')\n",
    "\n",
    "fig = plt.figure(figsize=(16,8))\n",
    "ax1 = fig.add_subplot(121, projection='3d')\n",
    "ax1.plot_surface(X,Y,lp_field,vmin=lp_field.min(),vmax=lp_field.max(),cmap='viridis',linewidth=0.5, antialiased=True)\n",
    "# ax1.set_title('Laplace solution')\n",
    "ax1.set_xlabel('x [nm]')\n",
    "ax1.set_ylabel('y [nm]')\n",
    "ax1.set_zlabel('Field [MV/m]')\n",
    "ax2 = fig.add_subplot(122,projection='3d')\n",
    "ax2.plot_surface(X,Y,ic_field,vmin=ic_field.min(),vmax=ic_field.max(),cmap='viridis',linewidth=0.5, antialiased=True)\n",
    "# ax2.set_title('Image charge solution')\n",
    "ax2.set_xlabel('x [nm]')\n",
    "ax2.set_ylabel('y [nm]')\n",
    "ax2.set_zlabel('Field [MV/m]')\n",
    "plt.show()\n",
    "\n",
    "\n",
    "x_index = Nx//2\n",
    "y_index = Ny//2\n",
    "\n",
    "lp_x_data = [lp_field[x_index][j] for j in range(Ny)]\n",
    "ic_x_data = [ic_field[x_index][j] for j in range(Ny)]\n",
    "lp_y_data = [lp_field[i][y_index] for i in range(Nx)]\n",
    "ic_y_data = [ic_field[i][y_index] for i in range(Nx)]\n",
    "\n",
    "fig = plt.figure(figsize=(16,8))\n",
    "ax1 = fig.add_subplot(211)\n",
    "ax1.set_title(f'Laplace vs image charge solution along x = {x_index}')\n",
    "ax1.plot(x,lp_x_data,label='Laplace')\n",
    "ax1.plot(x,ic_x_data,label='Image charge')\n",
    "ax1.set_xlabel('x')\n",
    "ax1.set_ylabel('Field [MV/m]')\n",
    "ax1.legend()\n",
    "ax2 = fig.add_subplot(212)\n",
    "ax2.set_title(f'Laplace vs image charge solution along y = {y_index}')\n",
    "ax2.plot(y,lp_y_data,label='Laplace')\n",
    "ax2.plot(y,ic_y_data,label='Image charge')\n",
    "ax2.set_xlabel('x')\n",
    "ax2.set_ylabel('Field [MV/m]')\n",
    "ax2.legend()\n",
    "\n",
    "plt.tight_layout()\n",
    "plt.show()\n"
   ]
  },
  {
   "cell_type": "code",
   "execution_count": null,
   "metadata": {},
   "outputs": [],
   "source": [
    "# filename_field = './out/laplace_grid.dt'\n",
    "# df_field = pd.read_csv(filepath_or_buffer=filename_field,delim_whitespace=True, \\\n",
    "#                        header=None, names=['emit','x','y','z'])\n",
    "# fig, ax = plt.subplots(figsize=(10, 6))\n",
    "# for i in range(len(df_field['emit'])):\n",
    "#     color = 'r'\n",
    "#     if df_field['emit'][i] == 0: color = 'b'\n",
    "#     ax.scatter(df_field['x'][i], df_field['y'][i], c=color, s=5, alpha=0.5)\n",
    "# plt.show()"
   ]
  }
 ],
 "metadata": {
  "kernelspec": {
   "display_name": "Python 3",
   "language": "python",
   "name": "python3"
  },
  "language_info": {
   "codemirror_mode": {
    "name": "ipython",
    "version": 3
   },
   "file_extension": ".py",
   "mimetype": "text/x-python",
   "name": "python",
   "nbconvert_exporter": "python",
   "pygments_lexer": "ipython3",
   "version": "3.10.12"
  }
 },
 "nbformat": 4,
 "nbformat_minor": 2
}
