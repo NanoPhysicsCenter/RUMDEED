{
 "cells": [
  {
   "cell_type": "code",
   "execution_count": 5,
   "id": "6f3b9784",
   "metadata": {},
   "outputs": [],
   "source": [
    "import matplotlib.pyplot as plt\n",
    "import numpy as np"
   ]
  },
  {
   "cell_type": "code",
   "execution_count": 6,
   "id": "1d935c70",
   "metadata": {},
   "outputs": [
    {
     "data": {
      "image/png": "[encoded data removed]",
      "text/plain": [
       "<Figure size 1000x300 with 1 Axes>"
      ]
     },
     "metadata": {},
     "output_type": "display_data"
    }
   ],
   "source": [
    "fontz = 20\n",
    "\n",
    "fig = plt.figure(figsize=(10, 3))\n",
    "x_axis = np.linspace(0,100,1000)\n",
    "y_axis = np.linspace(30,70,1000)\n",
    "\n",
    "plt.xlim(x_axis[0], x_axis[-1])\n",
    "plt.ylim(y_axis[0], y_axis[-1])\n",
    "plt.xticks([])\n",
    "plt.yticks([])\n",
    "\n",
    "# Emitter line\n",
    "plt.axhline(y=50, color='blue', linestyle='-')\n",
    "\n",
    "# Blue electrons\n",
    "elec_height = 10\n",
    "elec_pos = [10, 30, 70, 90]\n",
    "image_pos = [10, 30, 70, 90]\n",
    "plt.scatter(elec_pos, [50+elec_height]*len(elec_pos), color='blue', s=100, marker='o')\n",
    "plt.scatter(image_pos, [50-elec_height]*len(image_pos), facecolors='none', edgecolors='blue', s=100, marker='o')\n",
    "\n",
    "# Red electron\n",
    "plt.scatter(50, 50+elec_height, color='red', s=100, marker='o')\n",
    "plt.scatter(50, 50-elec_height, facecolors='none', edgecolors='red', s=100, marker='o')\n",
    "\n",
    "# Points\n",
    "point_height = 0\n",
    "point_pos = [50, 40, 60]\n",
    "plt.scatter(point_pos, [50+point_height]*len(point_pos), color='black', s=100, marker='x')\n",
    "point_labels = [r'$P_1$',r'$P_2$',r'$P_3$']\n",
    "for label, x, y in zip(point_labels, point_pos, [50+point_height]*len(point_pos)):\n",
    "    plt.text(x + 1, y + 1, label, fontsize=fontz, ha='center', va='bottom')\n",
    "\n",
    "# Arrow\n",
    "arr_x = 30\n",
    "arr_y = [1,5]\n",
    "plt.arrow(arr_x, 50 + arr_y[0], 0, arr_y[1], head_width=1, head_length=2, fc='red', ec='red')\n",
    "plt.text(arr_x + 2, 50 + arr_y[0] + 1, r'$\\xi$', fontsize=fontz, color='red', ha='center', va='bottom')\n",
    "plt.show()"
   ]
  },
  {
   "cell_type": "code",
   "execution_count": 7,
   "id": "6a0922f2",
   "metadata": {},
   "outputs": [
    {
     "data": {
      "image/png": "[encoded data removed]",
      "text/plain": [
       "<Figure size 1000x500 with 1 Axes>"
      ]
     },
     "metadata": {},
     "output_type": "display_data"
    }
   ],
   "source": [
    "from matplotlib import lines\n",
    "\n",
    "fontz = 20\n",
    "\n",
    "fig = plt.figure(figsize=(10, 5))\n",
    "x_axis = np.linspace(0,100,1000)\n",
    "y_axis = np.linspace(25,75,1000)\n",
    "\n",
    "plt.xlim(x_axis[0], x_axis[-1])\n",
    "plt.ylim(y_axis[0], y_axis[-1])\n",
    "plt.xticks([])\n",
    "plt.yticks([])\n",
    "\n",
    "# Blue electrons\n",
    "elec_height = [-20,0,20]\n",
    "elec_pos = [10, 30, 70, 90]\n",
    "for height in elec_height:\n",
    "    plt.scatter(elec_pos, [50+height]*len(elec_pos), color='blue', s=100, marker='o')\n",
    "plt.scatter(50, 50+20, color='blue', s=100, marker='o')\n",
    "plt.scatter(50, 50-20, color='blue', s=100, marker='o')\n",
    "\n",
    "# Red electron\n",
    "plt.scatter(50, 50+elec_height[1], color='red', s=100, marker='o')\n",
    "\n",
    "\n",
    "# Points\n",
    "pts_pos = [(50,0), (40,0), (60,10)]\n",
    "pts_labels = [r'$P_1$',r'$P_2$',r'$P_3$']\n",
    "for (x, y), label in zip(pts_pos, pts_labels):\n",
    "    plt.scatter(x, 50+y, color='black', s=100, marker='x')\n",
    "    plt.text(x + 1, 50 + y + 1, label, fontsize=fontz, ha='center', va='bottom')\n",
    "\n",
    "# Box\n",
    "box_x = (5, 95)\n",
    "box_y = (-5, 5)\n",
    "plt.plot(box_x, [50+box_y[0]]*2, color='black', linewidth=2, linestyle='--')\n",
    "plt.plot(box_x, [50+box_y[1]]*2, color='black', linewidth=2, linestyle='--')\n",
    "plt.plot([box_x[0], box_x[0]], [50+box_y[0], 50+box_y[1]], color='black', linewidth=2, linestyle='--')\n",
    "plt.plot([box_x[1], box_x[1]], [50+box_y[0], 50+box_y[1]], color='black', linewidth=2, linestyle='--')\n",
    "\n",
    "# Arrows\n",
    "arr1_x = 90\n",
    "arr1_y = [1,19]\n",
    "arr1_label = r'$\\mathscr{l}$'\n",
    "\n",
    "plt.annotate(\n",
    "    '', \n",
    "    xy=(arr1_x, 50+arr1_y[1]), \n",
    "    xytext=(arr1_x, 50+arr1_y[0]), \n",
    "    arrowprops=dict(arrowstyle='<->', color='red', lw=2)\n",
    ")\n",
    "plt.text(arr1_x + 2, 50 + (arr1_y[0] + arr1_y[1]) / 2, arr1_label, fontsize=fontz, color='red')\n",
    "\n",
    "arr2_x = [71, 89]\n",
    "arr2_y = 0\n",
    "arr2_label = r'$\\mathscr{l}$'\n",
    "\n",
    "plt.annotate(\n",
    "    '', \n",
    "    xy=(arr2_x[1], 50+arr2_y), \n",
    "    xytext=(arr2_x[0], 50+arr2_y), \n",
    "    arrowprops=dict(arrowstyle='<->', color='red', lw=2)\n",
    ")\n",
    "plt.text((arr2_x[0] + arr2_x[1]) / 2, 50 + arr2_y + 1, arr2_label, fontsize=fontz, color='red')\n",
    "\n",
    "plt.show()"
   ]
  }
 ],
 "metadata": {
  "kernelspec": {
   "display_name": "Python 3",
   "language": "python",
   "name": "python3"
  },
  "language_info": {
   "codemirror_mode": {
    "name": "ipython",
    "version": 3
   },
   "file_extension": ".py",
   "mimetype": "text/x-python",
   "name": "python",
   "nbconvert_exporter": "python",
   "pygments_lexer": "ipython3",
   "version": "3.10.12"
  }
 },
 "nbformat": 4,
 "nbformat_minor": 5
}
