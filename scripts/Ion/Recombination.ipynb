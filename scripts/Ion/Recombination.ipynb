{
 "cells": [
  {
   "cell_type": "code",
   "execution_count": 1,
   "metadata": {},
   "outputs": [],
   "source": [
    "import numpy as np\n",
    "from scipy.constants import k as k_b, m_e"
   ]
  },
  {
   "cell_type": "markdown",
   "metadata": {},
   "source": [
    "# Dissociative Recombination of $N_2^+$\n",
    "## Rate Coefficients\n",
    "The article \"Dissociative recombination of N2+, O2+, and NO+: Rate coefficients for ground state and vibrationally excited ions\" (https://agupubs.onlinelibrary.wiley.com/doi/10.1029/2003JA010132) gives the rate coefficients to be around $2\\times 10^{-7}\\,\\mathrm{cm^3/s}$ (See table 2).\n",
    "If we calculate the density of nitrogen in standard conditions and multiply that with the rate coefficients we should get the number of recombinations per sec."
   ]
  },
  {
   "cell_type": "code",
   "execution_count": 2,
   "metadata": {},
   "outputs": [
    {
     "name": "stdout",
     "output_type": "stream",
     "text": [
      "2.5034768640126714e+19\n"
     ]
    }
   ],
   "source": [
    "k = 2.0E-7 # cm^3/s from https://agupubs.onlinelibrary.wiley.com/doi/10.1029/2003JA010132\n",
    "P = 101325.0\n",
    "T = 293.15\n",
    "\n",
    "n = P/(k_b*T) * (1/100)**3 # Density in cm^3\n",
    "print(n)"
   ]
  },
  {
   "cell_type": "markdown",
   "metadata": {},
   "source": [
    "# Half life\n",
    "The half life should be $t_{1/2} = \\frac{1}{kn}$."
   ]
  },
  {
   "cell_type": "code",
   "execution_count": 3,
   "metadata": {},
   "outputs": [
    {
     "name": "stdout",
     "output_type": "stream",
     "text": [
      "0.13843690559395497\n",
      "1384.3690559395498\n"
     ]
    }
   ],
   "source": [
    "t_half = np.log(2)/(k*n)\n",
    "print(t_half/1.0E-12)\n",
    "print(t_half/(1.0E-4*1.0E-12))"
   ]
  },
  {
   "cell_type": "markdown",
   "metadata": {},
   "source": [
    "The half life of a $N_2^+$ is then 0.13 ps. If the time step in the simulation is 0.1 fs then that is around 1384 time steps."
   ]
  },
  {
   "cell_type": "markdown",
   "metadata": {},
   "source": [
    "# Mass\n",
    "The atomic mass of Nitrogen is 14.0067 u."
   ]
  },
  {
   "cell_type": "code",
   "execution_count": 4,
   "metadata": {},
   "outputs": [
    {
     "name": "stdout",
     "output_type": "stream",
     "text": [
      "4.651737683868e-26\n",
      "4.6516465900324e-26\n",
      "51064.339967614666\n"
     ]
    }
   ],
   "source": [
    "m_N = 14.0067*1.6605402E-27 # kg\n",
    "m_N2 = 2*m_N # Mass of N_2\n",
    "m_N2p = m_N2 - m_e\n",
    "print(m_N2)\n",
    "print(m_N2p)\n",
    "print(m_N2p/m_e)"
   ]
  },
  {
   "cell_type": "markdown",
   "metadata": {},
   "source": [
    "The mass of $N_2^+$ is then 4.6516465900324e-26 kg or 51064 heavier than the electron."
   ]
  },
  {
   "cell_type": "code",
   "execution_count": null,
   "metadata": {},
   "outputs": [],
   "source": []
  }
 ],
 "metadata": {
  "kernelspec": {
   "display_name": "Python 3",
   "language": "python",
   "name": "python3"
  },
  "language_info": {
   "codemirror_mode": {
    "name": "ipython",
    "version": 3
   },
   "file_extension": ".py",
   "mimetype": "text/x-python",
   "name": "python",
   "nbconvert_exporter": "python",
   "pygments_lexer": "ipython3",
   "version": "3.7.2"
  }
 },
 "nbformat": 4,
 "nbformat_minor": 2
}
