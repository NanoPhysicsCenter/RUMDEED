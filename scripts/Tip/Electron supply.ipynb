{
 "cells": [
  {
   "cell_type": "code",
   "execution_count": 108,
   "metadata": {},
   "outputs": [],
   "source": [
    "import numpy as np\n",
    "import scipy.integrate as integrate\n",
    "from scipy.constants import pi, hbar, e, m_e"
   ]
  },
  {
   "cell_type": "code",
   "execution_count": 109,
   "metadata": {},
   "outputs": [],
   "source": [
    "# System\n",
    "\n",
    "V_0 = 1000\n",
    "time_step = 0.25E-15\n",
    "\n",
    "# Fixed shape\n",
    "\n",
    "R_r = 250.0E-9\n",
    "h_r = 500.0E-9 # [m]\n",
    "h = h_r\n",
    "d = 1000.0E-9 # [m]\n",
    "d_plane = d + h_r\n",
    "\n",
    "xi_r = h_r/d + 1\n",
    "a = np.sqrt(d**2*R_r**2/(h_r**2+2*d*h_r) + d**2)\n",
    "eta_1 = - d / a\n",
    "\n",
    "shift_zd = h - h_r\n",
    "max_xi = - (h+d)/(a*eta_1)\n",
    "\n",
    "theta = np.arccos(d/a)\n",
    "r_tip = a*np.sin(theta)*np.tan(theta)\n",
    "eta_2 = 0.0 # Defines the plane of absorption\n",
    "eta = eta_1 # Defines the tip\n",
    "shift_z = np.abs(a*eta*xi_r)\n",
    "\n",
    "Q_0 = 1/2*np.log((1+np.cos(theta))/(1-np.cos(theta)))\n",
    "r = a*np.sin(theta)*np.tan(theta)\n",
    "\n",
    "# FN\n",
    "w = 4.7\n",
    "a_FN = e**2/(16.0*pi**2*hbar)\n",
    "b_FN = -4.0/(3.0*hbar) * np.sqrt(2.0*m_e*e)"
   ]
  },
  {
   "cell_type": "code",
   "execution_count": 110,
   "metadata": {},
   "outputs": [],
   "source": [
    "field = lambda  x, y: (V_0/r*np.tan(theta)/(Q_0*np.sqrt(x**2 - np.cos(theta)**2)))"
   ]
  },
  {
   "cell_type": "code",
   "execution_count": 141,
   "metadata": {},
   "outputs": [],
   "source": [
    "def Electron_Supply_old(F):\n",
    "    J = a_FN/w*F**2\n",
    "    return time_step*J/e\n",
    "\n",
    "def Tip_Area(xi_1, xi_2):\n",
    "    #xi_1 = 1.0\n",
    "    #xi_2 = max_xi\n",
    "    fac_1 = xi_1*np.sqrt(xi_1**2 - eta_1**2) * eta_1**2*np.log(xi_1 + np.sqrt(xi_1**2 - eta_1**2))\n",
    "    fac_2 = xi_2*np.sqrt(xi_2**2 - eta_1**2) * eta_1**2*np.log(xi_2 + np.sqrt(xi_2**2 - eta_1**2))\n",
    "    area = a**2/2*np.sqrt(1.0 - eta_1**2)*2.0*pi*(fac_2 - fac_1)\n",
    "    return area\n",
    "\n",
    "def t_y(F):\n",
    "    l = l_const * (-1.0*F) / w_theta**2 # l = y^2, y = 3.79E-4 * sqrt(F_old) / w_theta\n",
    "    t_y = 1.0 + l*( 1.0/9.0 - 1.0/18.0*np.log(l) )\n",
    "    #return 1.0\n",
    "    return t_y\n",
    "\n",
    "def v_y(F):\n",
    "    l = l_const * (-1.0*F) / w_theta**2 # l = y^2, y = 3.79E-4 * sqrt(F_old) / w_theta\n",
    "    v_y = 1.0 - l + 1.0/6.0 * l * np.log(l)\n",
    "    #return 1.0\n",
    "    return v_y\n",
    "\n",
    "def Elec_supply(F):\n",
    "    n = a_FN * F**2 * time_step / (e * w_theta * (t_y(F))**2)\n",
    "    return n\n",
    "\n",
    "def Escape_Prob(F):\n",
    "    D_f = np.exp( b_FN * (np.sqrt(w_theta)**3 * v_y(F) / (-1.0*F)) )\n",
    "    return D_f"
   ]
  },
  {
   "cell_type": "code",
   "execution_count": 142,
   "metadata": {},
   "outputs": [],
   "source": [
    "int_fun = lambda xi: Electron_Supply(field(xi, 0.0))"
   ]
  },
  {
   "cell_type": "code",
   "execution_count": 143,
   "metadata": {},
   "outputs": [
    {
     "data": {
      "text/plain": [
       "4.427560422055037e+16"
      ]
     },
     "execution_count": 143,
     "metadata": {},
     "output_type": "execute_result"
    }
   ],
   "source": [
    "Electron_Supply(field(1.0, 0.0))"
   ]
  },
  {
   "cell_type": "code",
   "execution_count": 144,
   "metadata": {},
   "outputs": [
    {
     "data": {
      "text/plain": [
       "9301519884.507256"
      ]
     },
     "execution_count": 144,
     "metadata": {},
     "output_type": "execute_result"
    }
   ],
   "source": [
    "field(1.0, 0.0)"
   ]
  },
  {
   "cell_type": "code",
   "execution_count": 147,
   "metadata": {},
   "outputs": [],
   "source": [
    "xi_1 = 1.0\n",
    "xi_2 = 1.5\n",
    "result = integrate.quad(int_fun, xi_1, xi_2)"
   ]
  },
  {
   "cell_type": "code",
   "execution_count": 148,
   "metadata": {},
   "outputs": [
    {
     "data": {
      "text/plain": [
       "21447.425131343098"
      ]
     },
     "execution_count": 148,
     "metadata": {},
     "output_type": "execute_result"
    }
   ],
   "source": [
    "result[0]*2.0*pi*Tip_Area(xi_1, xi_2)"
   ]
  },
  {
   "cell_type": "code",
   "execution_count": null,
   "metadata": {},
   "outputs": [],
   "source": []
  },
  {
   "cell_type": "code",
   "execution_count": null,
   "metadata": {},
   "outputs": [],
   "source": []
  }
 ],
 "metadata": {
  "kernelspec": {
   "display_name": "Python 3",
   "language": "python",
   "name": "python3"
  },
  "language_info": {
   "codemirror_mode": {
    "name": "ipython",
    "version": 3
   },
   "file_extension": ".py",
   "mimetype": "text/x-python",
   "name": "python",
   "nbconvert_exporter": "python",
   "pygments_lexer": "ipython3",
   "version": "3.7.2"
  }
 },
 "nbformat": 4,
 "nbformat_minor": 2
}
