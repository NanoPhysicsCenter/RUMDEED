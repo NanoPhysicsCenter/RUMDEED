{
 "cells": [
  {
   "cell_type": "code",
   "execution_count": 15,
   "metadata": {},
   "outputs": [],
   "source": [
    "from __future__ import absolute_import, unicode_literals, print_function\n",
    "import pycuba\n",
    "import numpy as np"
   ]
  },
  {
   "cell_type": "code",
   "execution_count": 16,
   "metadata": {},
   "outputs": [],
   "source": [
    "def Integrand(ndim, xx, ncomp, ff, userdata):\n",
    "        # access the current parameters\n",
    "        x,y,z = [xx[i] for i in range(ndim.contents.value)]\n",
    "        # compute the result\n",
    "        result = np.sin(x)*np.cos(y)*np.exp(z)\n",
    "        # store the result (here only one component)\n",
    "        ff[0] = result\n",
    "        return 0"
   ]
  },
  {
   "cell_type": "code",
   "execution_count": 17,
   "metadata": {},
   "outputs": [
    {
     "name": "stdout",
     "output_type": "stream",
     "text": [
      "-------------------- Vegas test -------------------\n",
      "VEGAS RESULT:\tneval 10000\tfail 0\n",
      "VEGAS RESULT:\t0.66481073 +- 0.00049218\tp = 0.089\n",
      "\n",
      "-------------------- Suave test -------------------\n",
      "SUAVE RESULT:\tnregions 6\tneval 6000\tfail 0\n",
      "SUAVE RESULT:\t0.66482570 +- 0.00066448\tp = 0.055\n",
      "\n",
      "-------------------- Divonne test -------------------\n",
      "DIVONNE RESULT:\tnregions 14\tneval 3052\tfail 0\n",
      "DIVONNE RESULT:\t0.66461951 +- 0.00063503\tp = 0.000\n",
      "\n",
      "-------------------- Cuhre test -------------------\n",
      "CUHRE RESULT:\tnregions 2\tneval 381\tfail 0\n",
      "CUHRE RESULT:\t0.66466968 +- 0.00000000\tp = 0.000\n",
      "\n"
     ]
    }
   ],
   "source": [
    "NDIM = 3\n",
    "NCOMP = 1\n",
    "\n",
    "NNEW = 1000\n",
    "NMIN = 2\n",
    "FLATNESS = 50.\n",
    "\n",
    "KEY1 = 47\n",
    "KEY2 = 1\n",
    "KEY3 = 1\n",
    "MAXPASS = 5\n",
    "BORDER = 0.\n",
    "MAXCHISQ = 10.\n",
    "MINDEVIATION = .25\n",
    "NGIVEN = 0\n",
    "LDXGIVEN = NDIM\n",
    "NEXTRA = 0\n",
    "MINEVAL = 0\n",
    "MAXEVAL = 50000\n",
    "\n",
    "\n",
    "KEY = 0\n",
    "  \n",
    "def print_header(name):\n",
    "    print('-------------------- %s test -------------------' % name)\n",
    "def print_results(name, results):\n",
    "    keys = ['nregions', 'neval', 'fail']\n",
    "    text = [\"%s %d\" % (k, results[k]) for k in keys if k in results]\n",
    "    print(\"%s RESULT:\\t\" % name.upper() + \"\\t\".join(text))\n",
    "    for comp in results['results']:\n",
    "      print(\"%s RESULT:\\t\" % name.upper() + \\\n",
    "        \"%(integral).8f +- %(error).8f\\tp = %(prob).3f\\n\" % comp)\n",
    "\n",
    "from os import environ as env\n",
    "verbose = 2\n",
    "if 'CUBAVERBOSE' in env:\n",
    "    verbose = int(env['CUBAVERBOSE'])\n",
    "\n",
    "print_header('Vegas')\n",
    "print_results('Vegas', pycuba.Vegas(Integrand, NDIM, verbose=2))\n",
    "\n",
    "print_header('Suave')\n",
    "print_results('Suave', pycuba.Suave(Integrand, NDIM, NNEW, NMIN, FLATNESS, verbose=2 | 4))\n",
    "\n",
    "print_header('Divonne')\n",
    "print_results('Divonne', pycuba.Divonne(Integrand, NDIM,\n",
    "    mineval=MINEVAL, maxeval=MAXEVAL,\n",
    "    key1=KEY1, key2=KEY2, key3=KEY3, maxpass=MAXPASS,\n",
    "    border=BORDER, maxchisq=MAXCHISQ, mindeviation=MINDEVIATION,\n",
    "    ldxgiven=LDXGIVEN, verbose=2))\n",
    "\n",
    "print_header('Cuhre')\n",
    "print_results('Cuhre', pycuba.Cuhre(Integrand, NDIM, key=KEY, verbose=2 | 4))\n"
   ]
  },
  {
   "cell_type": "code",
   "execution_count": null,
   "metadata": {},
   "outputs": [],
   "source": []
  },
  {
   "cell_type": "code",
   "execution_count": null,
   "metadata": {},
   "outputs": [],
   "source": []
  },
  {
   "cell_type": "code",
   "execution_count": null,
   "metadata": {},
   "outputs": [],
   "source": []
  }
 ],
 "metadata": {
  "kernelspec": {
   "display_name": "Python 3",
   "language": "python",
   "name": "python3"
  },
  "language_info": {
   "codemirror_mode": {
    "name": "ipython",
    "version": 3
   },
   "file_extension": ".py",
   "mimetype": "text/x-python",
   "name": "python",
   "nbconvert_exporter": "python",
   "pygments_lexer": "ipython3",
   "version": "3.7.2"
  }
 },
 "nbformat": 4,
 "nbformat_minor": 2
}
