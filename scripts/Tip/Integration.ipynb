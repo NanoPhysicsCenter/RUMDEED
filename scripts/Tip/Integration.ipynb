{
 "cells": [
  {
   "cell_type": "code",
   "execution_count": 1,
   "metadata": {},
   "outputs": [],
   "source": [
    "from __future__ import absolute_import, unicode_literals, print_function\n",
    "import numpy as np\n",
    "import scipy.integrate as integrate\n",
    "from scipy.constants import pi, hbar, e, m_e, epsilon_0\n",
    "import pycuba"
   ]
  },
  {
   "cell_type": "code",
   "execution_count": 2,
   "metadata": {},
   "outputs": [],
   "source": [
    "from __future__ import print_function\n",
    "\n",
    "import sys\n",
    "\n",
    "def debug(expression):\n",
    "    frame = sys._getframe(1)\n",
    "\n",
    "    print(expression, '=', repr(eval(expression, frame.f_globals, frame.f_locals)))"
   ]
  },
  {
   "cell_type": "markdown",
   "metadata": {},
   "source": [
    "# Integration with Scipy"
   ]
  },
  {
   "cell_type": "code",
   "execution_count": 3,
   "metadata": {},
   "outputs": [
    {
     "name": "stdout",
     "output_type": "stream",
     "text": [
      "V_0 = 1000\n",
      "time_step = 2.5e-16\n",
      "R_r = 2.5e-07\n",
      "h_r = 5e-07\n",
      "h = 5e-07\n",
      "d = 1e-06\n",
      "d_plane = 1.5e-06\n",
      "xi_r = 1.5\n",
      "a = 1.0246950765959597e-06\n",
      "eta_1 = -0.9759000729485332\n",
      "shift_zd = 0.0\n",
      "max_xi = 1.5\n",
      "theta = 0.21998797739545933\n",
      "r_tip = 4.9999999999999945e-08\n",
      "eta_2 = 0.0\n",
      "eta = -0.9759000729485332\n",
      "shift_z = 1.5e-06\n"
     ]
    }
   ],
   "source": [
    "# System\n",
    "\n",
    "V_0 = 1000\n",
    "debug('V_0')\n",
    "time_step = 0.25E-15\n",
    "debug('time_step')\n",
    "\n",
    "# Fixed shape\n",
    "\n",
    "R_r = 250.0E-9\n",
    "debug('R_r')\n",
    "h_r = 500.0E-9 # [m]\n",
    "debug('h_r')\n",
    "h = h_r\n",
    "debug('h')\n",
    "d = 1000.0E-9 # [m]\n",
    "debug('d')\n",
    "d_plane = d + h_r\n",
    "debug('d_plane')\n",
    "\n",
    "xi_r = h_r/d + 1\n",
    "debug('xi_r')\n",
    "a = np.sqrt(d**2*R_r**2/(h_r**2+2*d*h_r) + d**2)\n",
    "debug('a')\n",
    "eta_1 = - d / a\n",
    "debug('eta_1')\n",
    "\n",
    "shift_zd = h - h_r\n",
    "debug('shift_zd')\n",
    "max_xi = - (h+d)/(a*eta_1)\n",
    "debug('max_xi')\n",
    "\n",
    "theta = np.arccos(d/a)\n",
    "debug('theta')\n",
    "r_tip = a*np.sin(theta)*np.tan(theta)\n",
    "debug('r_tip')\n",
    "eta_2 = 0.0 # Defines the plane of absorption\n",
    "debug('eta_2')\n",
    "eta = eta_1 # Defines the tip\n",
    "debug('eta')\n",
    "shift_z = np.abs(a*eta*xi_r)\n",
    "debug('shift_z')\n",
    "\n",
    "Q_0 = 1/2*np.log((1+np.cos(theta))/(1-np.cos(theta)))\n",
    "r = a*np.sin(theta)*np.tan(theta)\n",
    "\n",
    "# FN\n",
    "w_theta = 4.7\n",
    "a_FN = e**2/(16.0*pi**2*hbar)\n",
    "b_FN = -4.0/(3.0*hbar) * np.sqrt(2.0*m_e*e)\n",
    "l_const = e / (4.0*pi*epsilon_0)"
   ]
  },
  {
   "cell_type": "code",
   "execution_count": 4,
   "metadata": {},
   "outputs": [],
   "source": [
    "def xi_coor(x, y, z):\n",
    "    res = 1.0/(2.0*a) * ( np.sqrt(x**2 + y**2 + (z + a - shift_z)**2) + np.sqrt(x**2 + y**2 + (z - a - shift_z)**2) )\n",
    "    return res\n",
    "\n",
    "def eta_coor(x, y, z):\n",
    "    res = 1.0/(2.0*a) * ( np.sqrt(x**2 + y**2 + (z + a - shift_z)**2) - np.sqrt(x**2 + y**2 + (z - a - shift_z)**2) )\n",
    "    return res\n",
    "\n",
    "def HyperTip_Field_xyz(x, y, z):\n",
    "    xi = xi_coor(x, y, z)\n",
    "    eta = eta_coor(x, y, z)\n",
    "    theta = 0.0\n",
    "    res = HyperTip_Field(xi, eta, theta)\n",
    "    return res\n",
    "\n",
    "def HyperTip_Field(xi, eta, theta):\n",
    "    ln_fac = np.log((1+eta_1)/(1 - eta_1)*(1-eta_2)/(1+eta_2))\n",
    "    res = 2*V_0/a * 1.0/(np.sqrt(xi**2 - eta**2)*np.sqrt(1.0 - eta**2)) * 1.0/ln_fac\n",
    "    return -1.0*res\n",
    "\n",
    "#field = lambda xi: (V_0/r*np.tan(theta)/(Q_0*np.sqrt(xi**2 - np.cos(theta)**2)))\n",
    "field = lambda xi: HyperTip_Field(xi, eta_1, 0.0)"
   ]
  },
  {
   "cell_type": "code",
   "execution_count": 5,
   "metadata": {},
   "outputs": [
    {
     "name": "stdout",
     "output_type": "stream",
     "text": [
      "Field at top\n",
      "9301519884.507257\n",
      "9301519884.507257\n",
      "Field at bottom\n",
      "1781848047.5776505\n",
      "1781848047.5776505\n"
     ]
    }
   ],
   "source": [
    "print('Field at top')\n",
    "print(HyperTip_Field(1.0, eta_1, 0.0))\n",
    "print(field(1.0))\n",
    "\n",
    "print('Field at bottom')\n",
    "print(HyperTip_Field(max_xi, eta_1, 0.0))\n",
    "print(field(max_xi))"
   ]
  },
  {
   "cell_type": "markdown",
   "metadata": {},
   "source": [
    "From Fortran program\n",
    "Top: -876.605169069439       0.000000000000000E+000  -9301519884.50717  \n",
    "Top: -9301519884.50717  \n",
    "\n",
    "Bottom: -1706700896.23986       0.000000000000000E+000  -512010268.871958  \n",
    "Bottom: -1781848047.57765  "
   ]
  },
  {
   "cell_type": "code",
   "execution_count": 6,
   "metadata": {},
   "outputs": [],
   "source": [
    "def Electron_Supply_old(F):\n",
    "    J = a_FN/w*F**2\n",
    "    return time_step*J/e\n",
    "\n",
    "def Tip_Area(xi_1, xi_2):\n",
    "    #xi_1 = 1.0\n",
    "    #xi_2 = max_xi\n",
    "    fac_1 = xi_1*np.sqrt(xi_1**2 - eta_1**2) - eta_1**2*np.log(xi_1 + np.sqrt(xi_1**2 - eta_1**2))\n",
    "    fac_2 = xi_2*np.sqrt(xi_2**2 - eta_1**2) - eta_1**2*np.log(xi_2 + np.sqrt(xi_2**2 - eta_1**2))\n",
    "    area = a**2/2*np.sqrt(1.0 - eta_1**2)*2.0*pi*(fac_2 - fac_1)\n",
    "    return area\n",
    "\n",
    "def Tip_Area_2(xi_1, xi_2, phi_1, phi_2):\n",
    "    fac_1 = xi_1*np.sqrt(xi_1**2 - eta_1**2) - eta_1**2*np.log(xi_1 + np.sqrt(xi_1**2 - eta_1**2))\n",
    "    fac_2 = xi_2*np.sqrt(xi_2**2 - eta_1**2) - eta_1**2*np.log(xi_2 + np.sqrt(xi_2**2 - eta_1**2))\n",
    "    res = 0.5*a**2 * np.sqrt(1.0-eta_1**2) * (phi_2 - phi_1) * (fac_2 - fac_1)\n",
    "    return res\n",
    "\n",
    "def t_y(F):\n",
    "    l = l_const * np.abs(F) / w_theta**2 # l = y^2, y = 3.79E-4 * sqrt(F_old) / w_theta\n",
    "    if ((l > 1.0) or (l < 0.0)):\n",
    "        print('l = ' + str(l))\n",
    "    t_y = 1.0 + l*( 1.0/9.0 - 1.0/18.0*np.log(l) )\n",
    "    #return 1.0\n",
    "    return t_y\n",
    "\n",
    "def v_y(F):\n",
    "    l = l_const * np.abs(F) / w_theta**2 # l = y^2, y = 3.79E-4 * sqrt(F_old) / w_theta\n",
    "    if ((l > 1.0) or (l < 0.0)):\n",
    "        print('l = ' + str(l))\n",
    "    v_y = 1.0 - l + 1.0/6.0 * l * np.log(l)\n",
    "    #return 1.0\n",
    "    return v_y\n",
    "\n",
    "def Elec_supply(F):\n",
    "    n = a_FN * F**2 * time_step / (e * w_theta * (t_y(F))**2)\n",
    "    return n\n",
    "\n",
    "def Escape_Prob(F):\n",
    "    D_f = np.exp( b_FN * (np.sqrt(w_theta)**3 * v_y(F) / np.abs(F)) )\n",
    "    return D_f"
   ]
  },
  {
   "cell_type": "code",
   "execution_count": 38,
   "metadata": {},
   "outputs": [
    {
     "name": "stdout",
     "output_type": "stream",
     "text": [
      "Field at top\n",
      "9301519884.507257\n",
      "Supply\n",
      "3.766401894211763e+16\n",
      "Escape Prob\n",
      "0.07673150170697449\n",
      "\n",
      "Field at bottom\n",
      "1781848047.5776505\n",
      "Supply\n",
      "1541090101657844.2\n",
      "Escape Prob\n",
      "5.165245807739933e-15\n"
     ]
    }
   ],
   "source": [
    "print('Field at top')\n",
    "print(HyperTip_Field(1.0, eta_1, 0.0))\n",
    "print('Supply')\n",
    "print(Elec_supply(HyperTip_Field(1.0, eta_1, 0.0)))\n",
    "print('Escape Prob')\n",
    "print(Escape_Prob(HyperTip_Field(1.0, eta_1, 0.0)))\n",
    "\n",
    "print('')\n",
    "print('Field at bottom')\n",
    "print(HyperTip_Field(max_xi, eta_1, 0.0))\n",
    "print('Supply')\n",
    "print(Elec_supply(HyperTip_Field(max_xi, eta_1, 0.0)))\n",
    "print('Escape Prob')\n",
    "print(Escape_Prob(HyperTip_Field(max_xi, eta_1, 0.0)))"
   ]
  },
  {
   "cell_type": "code",
   "execution_count": 7,
   "metadata": {},
   "outputs": [
    {
     "name": "stdout",
     "output_type": "stream",
     "text": [
      "Tip Area\n",
      "5.429169853711646e-13\n",
      "5.429169853711646e-13\n"
     ]
    }
   ],
   "source": [
    "print('Tip Area')\n",
    "print(Tip_Area(1.0, max_xi))\n",
    "print(Tip_Area_2(1.0, max_xi, 0.0, 2.0*pi))"
   ]
  },
  {
   "cell_type": "markdown",
   "metadata": {},
   "source": [
    "Fortran code gives  \n",
    "Tip Area: 5.429169853668197E-013"
   ]
  },
  {
   "cell_type": "code",
   "execution_count": 8,
   "metadata": {},
   "outputs": [],
   "source": [
    "int_fun = lambda xi: Elec_supply(field(xi))*Escape_Prob(field(xi))"
   ]
  },
  {
   "cell_type": "code",
   "execution_count": 9,
   "metadata": {},
   "outputs": [],
   "source": [
    "xi_1 = 1.0\n",
    "xi_2 = max_xi\n",
    "result = integrate.quad(int_fun, xi_1, xi_2)"
   ]
  },
  {
   "cell_type": "code",
   "execution_count": 10,
   "metadata": {},
   "outputs": [
    {
     "data": {
      "text/plain": [
       "9.736993215032351"
      ]
     },
     "execution_count": 10,
     "metadata": {},
     "output_type": "execute_result"
    }
   ],
   "source": [
    "result[0]*Tip_Area(xi_1, xi_2)"
   ]
  },
  {
   "cell_type": "code",
   "execution_count": null,
   "metadata": {},
   "outputs": [],
   "source": []
  },
  {
   "cell_type": "markdown",
   "metadata": {},
   "source": [
    "# From fortran code\n",
    "4.61890897364688\n",
    "## Parameters\n",
    "V             =        1000.00      The Voltage in the system  \n",
    "d             =       0.150000E-05  Gap spacing in the system  \n",
    "E_z           =      -0.666667E+09  Z-component of the electric field in the system  \n",
    "J_FN          =       0.619525E-36  Fowler-Nordheim current density for E_z  \n",
    "Z_f           =       0.212446E+13  Electron supply  \n",
    "D_f           =       0.455030E-45  Escape probability  \n",
    "w_theta       =        4.70000      Work function  \n",
    "seed          =             2169      The seed used in the random function  \n",
    "\n",
    "a_foci        =       0.102470E-05  a_foci  \n",
    "theta_tip     =       0.219988      theta_tip  \n",
    "r_tip         =       0.500000E-07  r_tip  \n",
    "eta_1         =      -0.975900      eta_1  \n",
    "eta_2         =        0.00000      eta_2  \n",
    "max_xi        =        1.50000      max_xi  \n",
    "shift_z       =       0.150000E-05  shift_z  "
   ]
  },
  {
   "cell_type": "code",
   "execution_count": 18,
   "metadata": {},
   "outputs": [
    {
     "name": "stdout",
     "output_type": "stream",
     "text": [
      "n_add = 6.369062178369556\n",
      "A_tot = 5.429169853667627e-13\n"
     ]
    }
   ],
   "source": [
    "nr_phi = 5000\n",
    "nr_xi = 5000\n",
    "len_phi = 2.0*pi\n",
    "len_xi = max_xi - 1.0\n",
    "\n",
    "F_avg = 0.0\n",
    "n_add = 0.0\n",
    "A_tot = 0.0\n",
    "\n",
    "for i in range(nr_xi):\n",
    "    xi_start = 1.0 + i*len_xi/nr_xi\n",
    "    xi_end = 1.0 + (i+1)*len_xi/nr_xi\n",
    "    xi_c = (xi_end + xi_start) * 0.5\n",
    "\n",
    "    for j in range(nr_phi):\n",
    "        phi_start = j*len_phi/nr_phi\n",
    "        phi_end = (j+1)*len_phi/nr_phi\n",
    "        phi_c = (phi_end + phi_start) * 0.5\n",
    "\n",
    "        #par_pos = xyz_corr(xi_c, eta_1, phi_c)\n",
    "        F = HyperTip_Field(xi_c, eta_1, phi_c)\n",
    "\n",
    "        #par_accel = Accel_on_Tip(par_pos)\n",
    "        #F = Field_normal(par_pos, par_accel) * pre_fac_a\n",
    "\n",
    "        #if (F < 0.0):\n",
    "        A_f = Tip_Area_2(xi_start, xi_end, phi_start, phi_end)\n",
    "        A_tot = A_tot + A_f\n",
    "        n_add = n_add + A_f*Elec_supply(F) * Escape_Prob(F)\n",
    "        #print(A_f*Elec_supply(F))\n",
    "        #print(Escape_Prob(F))\n",
    "            \n",
    "debug('n_add')\n",
    "debug('A_tot')"
   ]
  },
  {
   "cell_type": "code",
   "execution_count": null,
   "metadata": {},
   "outputs": [],
   "source": []
  },
  {
   "cell_type": "markdown",
   "metadata": {},
   "source": [
    "# Cuba Test"
   ]
  },
  {
   "cell_type": "code",
   "execution_count": 37,
   "metadata": {},
   "outputs": [],
   "source": [
    "def Integrand_1(ndim, xx, ncomp, ff, userdata):\n",
    "        # access the current parameters\n",
    "        xi, phi = [xx[i] for i in range(ndim.contents.value)]\n",
    "        \n",
    "        # Transform coodinates from [0, 1]\n",
    "        phi = phi*2.0*pi\n",
    "        xi = xi*(max_xi - 1.0) + 1.0\n",
    "        \n",
    "        # Calculate scale factors\n",
    "        h_xi = a*np.sqrt((xi**2 - eta_1**2)/(xi**2 - 1.0))\n",
    "        h_phi = a*np.sqrt((xi**2 - 1)*(1- eta_1**2))\n",
    "        \n",
    "        # Calculate the field\n",
    "        F = HyperTip_Field(xi, eta_1, phi)\n",
    "        \n",
    "        # compute the result\n",
    "        result = Elec_supply(F) * Escape_Prob(F) * h_xi * h_phi * 2.0*pi*(max_xi - 1.0)\n",
    "        \n",
    "        # store the result (here only one component)\n",
    "        ff[0] = result\n",
    "        return 0"
   ]
  },
  {
   "cell_type": "code",
   "execution_count": 36,
   "metadata": {},
   "outputs": [
    {
     "data": {
      "text/plain": [
       "{'neval': 100000,\n",
       " 'fail': 1,\n",
       " 'comp': 0,\n",
       " 'nregions': 1,\n",
       " 'results': [{'integral': 6.3672310388145315,\n",
       "   'error': 0.11510280363696748,\n",
       "   'prob': -999.0}]}"
      ]
     },
     "execution_count": 36,
     "metadata": {},
     "output_type": "execute_result"
    }
   ],
   "source": [
    "NDIM = 2\n",
    "NNEW = 100000\n",
    "NMIN = 10000\n",
    "FLATNESS = 50.0\n",
    "pycuba.Suave(Integrand_1, NDIM, NNEW, NMIN, FLATNESS, verbose=2 | 4)"
   ]
  },
  {
   "cell_type": "code",
   "execution_count": null,
   "metadata": {},
   "outputs": [],
   "source": []
  },
  {
   "cell_type": "code",
   "execution_count": 39,
   "metadata": {},
   "outputs": [],
   "source": [
    "def xi_coor_xy(x, y):\n",
    "    res = 1.0/a * 1.0/np.sqrt(1.0 - eta_1**2) * np.sqrt(x**2 + y**2 + a**2*(1.0 - eta_1**2))\n",
    "    return res\n",
    "\n",
    "def phi_coor(x, y):\n",
    "    if ((np.abs(x) < 1.0E-18) and (np.abs(y) < 1.0E-18)):\n",
    "        res = 0.0\n",
    "    else:\n",
    "        res = np.atan2(y, x)\n",
    "    return res\n",
    "\n",
    "def Integrand_2(ndim, xx, ncomp, ff, userdata):\n",
    "        # access the current parameters\n",
    "        x, y = [xx[i] for i in range(ndim.contents.value)]\n",
    "        \n",
    "        x = x*R_r\n",
    "        y = y*R_r\n",
    "        \n",
    "        phi = phi*2.0*pi\n",
    "        xi = xi*(max_xi - 1.0) + 1.0\n",
    "        \n",
    "        # Calculate scale factors\n",
    "        h_xi = a*np.sqrt((xi**2 - eta_1**2)/(xi**2 - 1.0))\n",
    "        h_phi = a*np.sqrt((xi**2 - 1)*(1- eta_1**2))\n",
    "        \n",
    "        # Calculate the field\n",
    "        F = HyperTip_Field(xi, eta_1, phi)\n",
    "        \n",
    "        # compute the result\n",
    "        result = Elec_supply(F) * Escape_Prob(F) * h_xi * h_phi\n",
    "        \n",
    "        # store the result (here only one component)\n",
    "        ff[0] = result\n",
    "        return 0"
   ]
  },
  {
   "cell_type": "code",
   "execution_count": null,
   "metadata": {},
   "outputs": [],
   "source": []
  },
  {
   "cell_type": "markdown",
   "metadata": {},
   "source": [
    "# Total current from tip"
   ]
  },
  {
   "cell_type": "code",
   "execution_count": 42,
   "metadata": {},
   "outputs": [],
   "source": [
    "def FN_eq(F):\n",
    "    res = a_FN * F**2 / (w_theta * (t_y(F))**2) * np.exp( b_FN * (np.sqrt(w_theta)**3 * v_y(F) / np.abs(F)) )\n",
    "    return res\n",
    "\n",
    "def Integrand_cur(ndim, xx, ncomp, ff, userdata):\n",
    "        # access the current parameters\n",
    "        xi, phi = [xx[i] for i in range(ndim.contents.value)]\n",
    "        \n",
    "        # Transform coodinates from [0, 1]\n",
    "        phi = phi*2.0*pi\n",
    "        xi = xi*(max_xi - 1.0) + 1.0\n",
    "        \n",
    "        # Calculate scale factors\n",
    "        h_xi = a*np.sqrt((xi**2 - eta_1**2)/(xi**2 - 1.0))\n",
    "        h_phi = a*np.sqrt((xi**2 - 1)*(1- eta_1**2))\n",
    "        \n",
    "        # Calculate the field\n",
    "        F = HyperTip_Field(xi, eta_1, phi)\n",
    "        \n",
    "        # compute the result\n",
    "        result = FN_eq(F) * h_xi * h_phi * 2.0*pi*(max_xi - 1.0)\n",
    "        \n",
    "        # store the result (here only one component)\n",
    "        ff[0] = result\n",
    "        return 0"
   ]
  },
  {
   "cell_type": "code",
   "execution_count": 46,
   "metadata": {},
   "outputs": [
    {
     "data": {
      "text/plain": [
       "[{'integral': 0.0040805714838483016,\n",
       "  'error': 7.376600839027278e-05,\n",
       "  'prob': -999.0}]"
      ]
     },
     "execution_count": 46,
     "metadata": {},
     "output_type": "execute_result"
    }
   ],
   "source": [
    "NDIM = 2\n",
    "NNEW = 100000\n",
    "NMIN = 10000\n",
    "FLATNESS = 50.0\n",
    "results = pycuba.Suave(Integrand_cur, NDIM, NNEW, NMIN, FLATNESS, verbose=2 | 4)"
   ]
  },
  {
   "cell_type": "code",
   "execution_count": 50,
   "metadata": {},
   "outputs": [
    {
     "data": {
      "text/plain": [
       "4.080571483848302"
      ]
     },
     "execution_count": 50,
     "metadata": {},
     "output_type": "execute_result"
    }
   ],
   "source": [
    "results['results'][0]['integral']/1.0E-3"
   ]
  },
  {
   "cell_type": "code",
   "execution_count": null,
   "metadata": {},
   "outputs": [],
   "source": []
  }
 ],
 "metadata": {
  "kernelspec": {
   "display_name": "Python 3",
   "language": "python",
   "name": "python3"
  },
  "language_info": {
   "codemirror_mode": {
    "name": "ipython",
    "version": 3
   },
   "file_extension": ".py",
   "mimetype": "text/x-python",
   "name": "python",
   "nbconvert_exporter": "python",
   "pygments_lexer": "ipython3",
   "version": "3.7.3"
  }
 },
 "nbformat": 4,
 "nbformat_minor": 2
}
