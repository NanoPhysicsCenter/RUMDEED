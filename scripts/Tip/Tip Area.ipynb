{
 "cells": [
  {
   "cell_type": "code",
   "execution_count": 3,
   "metadata": {},
   "outputs": [],
   "source": [
    "import numpy as np\n",
    "import matplotlib.pyplot as plt\n",
    "%matplotlib inline\n",
    "from scipy.constants import pi, hbar, e, m_e"
   ]
  },
  {
   "cell_type": "code",
   "execution_count": 18,
   "metadata": {},
   "outputs": [],
   "source": [
    "# System\n",
    "\n",
    "V_0 = 1000\n",
    "time_step = 0.25E-15\n",
    "\n",
    "# Fixed shape\n",
    "\n",
    "R_r = 250.0E-9\n",
    "h_r = 500.0E-9 # [m]\n",
    "h = h_r\n",
    "d = 1000.0E-9 # [m]\n",
    "d_plane = d + h_r\n",
    "\n",
    "xi_r = h_r/d + 1\n",
    "a = np.sqrt(d**2*R_r**2/(h_r**2+2*d*h_r) + d**2)\n",
    "eta_1 = - d / a\n",
    "\n",
    "shift_zd = h - h_r\n",
    "max_xi = - (h+d)/(a*eta_1)\n",
    "\n",
    "theta = np.arccos(d/a)\n",
    "r_tip = a*np.sin(theta)*np.tan(theta)\n",
    "eta_2 = 0.0 # Defines the plane of absorption\n",
    "eta = eta_1 # Defines the tip\n",
    "shift_z = np.abs(a*eta*xi_r)\n",
    "\n",
    "Q_0 = 1/2*np.log((1+np.cos(theta))/(1-np.cos(theta)))\n",
    "r = a*np.sin(theta)*np.tan(theta)\n",
    "\n",
    "# FN\n",
    "w = 4.7\n",
    "a_FN = e**2/(16.0*pi**2*hbar)\n",
    "b_FN = -4.0/(3.0*hbar) * np.sqrt(2.0*m_e*e)"
   ]
  },
  {
   "cell_type": "code",
   "execution_count": 19,
   "metadata": {},
   "outputs": [
    {
     "name": "stdout",
     "output_type": "stream",
     "text": [
      "542916.9853711646\n"
     ]
    }
   ],
   "source": [
    "xi_1 = 1.0\n",
    "xi_2 = max_xi\n",
    "fac_1 = xi_1*np.sqrt(xi_1**2 - eta_1**2) - eta_1**2*np.log(xi_1 + np.sqrt(xi_1**2 - eta_1**2))\n",
    "fac_2 = xi_2*np.sqrt(xi_2**2 - eta_1**2) - eta_1**2*np.log(xi_2 + np.sqrt(xi_2**2 - eta_1**2))\n",
    "A = a**2/2*np.sqrt(1 - eta_1**2)*2*pi*(fac_2 - fac_1)\n",
    "print(A/(1.0E-9)**2)"
   ]
  },
  {
   "cell_type": "code",
   "execution_count": 20,
   "metadata": {},
   "outputs": [
    {
     "data": {
      "text/plain": [
       "5.429169853711646e-13"
      ]
     },
     "execution_count": 20,
     "metadata": {},
     "output_type": "execute_result"
    }
   ],
   "source": [
    "A"
   ]
  },
  {
   "cell_type": "code",
   "execution_count": 21,
   "metadata": {},
   "outputs": [
    {
     "data": {
      "text/plain": [
       "1.5"
      ]
     },
     "execution_count": 21,
     "metadata": {},
     "output_type": "execute_result"
    }
   ],
   "source": []
  },
  {
   "cell_type": "code",
   "execution_count": 12,
   "metadata": {},
   "outputs": [
    {
     "data": {
      "text/plain": [
       "-0.9759000729485332"
      ]
     },
     "execution_count": 12,
     "metadata": {},
     "output_type": "execute_result"
    }
   ],
   "source": []
  },
  {
   "cell_type": "code",
   "execution_count": null,
   "metadata": {},
   "outputs": [],
   "source": []
  }
 ],
 "metadata": {
  "kernelspec": {
   "display_name": "Python 3",
   "language": "python",
   "name": "python3"
  },
  "language_info": {
   "codemirror_mode": {
    "name": "ipython",
    "version": 3
   },
   "file_extension": ".py",
   "mimetype": "text/x-python",
   "name": "python",
   "nbconvert_exporter": "python",
   "pygments_lexer": "ipython3",
   "version": "3.7.2"
  }
 },
 "nbformat": 4,
 "nbformat_minor": 2
}
