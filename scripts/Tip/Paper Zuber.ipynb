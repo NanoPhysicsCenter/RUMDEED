{
 "cells": [
  {
   "cell_type": "code",
   "execution_count": 1,
   "metadata": {},
   "outputs": [],
   "source": [
    "import numpy as np\n",
    "import matplotlib.pyplot as plt\n",
    "%matplotlib inline\n",
    "from scipy.constants import pi, hbar, e, m_e"
   ]
  },
  {
   "cell_type": "markdown",
   "metadata": {},
   "source": [
    "# Parameters"
   ]
  },
  {
   "cell_type": "code",
   "execution_count": 84,
   "metadata": {},
   "outputs": [
    {
     "name": "stdout",
     "output_type": "stream",
     "text": [
      "1.0262926049801409\n"
     ]
    }
   ],
   "source": [
    "V = 150 # [V]\n",
    "d = 1000.0E-9 # [m]\n",
    "a = 1002.5E-9 # [nm]\n",
    "w = 4.7 # [eV]\n",
    "\n",
    "B = 4.0/(3.0*hbar) * np.sqrt(2.0*m_e*e*w*3)\n",
    "\n",
    "theta = np.arccos(d/a)\n",
    "eta_1 = -d/a\n",
    "r = a*np.sin(theta)*np.tan(theta) # [nm]\n",
    "Q_0 = 0.5*np.log((1+np.cos(theta))/(1-np.cos(theta)))\n",
    "xi_0 = np.sqrt( (3*V*np.log(10)/(B*d*np.tan(theta)*Q_0) + np.sin(theta))**2 + (np.cos(theta))**2 )\n",
    "print(xi_0)\n",
    "xi_0 = 1.007"
   ]
  },
  {
   "cell_type": "code",
   "execution_count": 83,
   "metadata": {},
   "outputs": [
    {
     "data": {
      "text/plain": [
       "5.00624999999991"
      ]
     },
     "execution_count": 83,
     "metadata": {},
     "output_type": "execute_result"
    }
   ],
   "source": [
    "r/1.0E-9"
   ]
  },
  {
   "cell_type": "code",
   "execution_count": null,
   "metadata": {},
   "outputs": [],
   "source": []
  },
  {
   "cell_type": "code",
   "execution_count": 75,
   "metadata": {},
   "outputs": [
    {
     "data": {
      "text/plain": [
       "14954.045350321123"
      ]
     },
     "execution_count": 75,
     "metadata": {},
     "output_type": "execute_result"
    }
   ],
   "source": [
    "fac = (xi_0*np.sqrt(xi_0**2 - np.cos(theta)**2) - np.sin(theta)**2)/np.cos(theta)**2 - np.log((xi_0 + np.sqrt(xi_0**2 - np.cos(theta)**2))/(1+np.sin(theta)))\n",
    "A = pi*d**2*np.sin(theta)*fac\n",
    "A/(1.0E-9)**2"
   ]
  },
  {
   "cell_type": "code",
   "execution_count": 76,
   "metadata": {},
   "outputs": [
    {
     "data": {
      "text/plain": [
       "336.4760425959735"
      ]
     },
     "execution_count": 76,
     "metadata": {},
     "output_type": "execute_result"
    }
   ],
   "source": [
    "xi_1 = 1.0\n",
    "xi_2 = xi_0\n",
    "fac_1 = xi_1*np.sqrt(xi_1**2 - eta_1**2) - eta_1**2*np.log(xi_1 + np.sqrt(xi_1**2 - eta_1**2))\n",
    "fac_2 = xi_2*np.sqrt(xi_2**2 - eta_1**2) - eta_1**2*np.log(xi_2 + np.sqrt(xi_2**2 - eta_1**2))\n",
    "A = a**2/2*np.sqrt(1 - eta_1**2)*2*pi*(fac_2 - fac_1)\n",
    "A/(1.0E-9)**2"
   ]
  },
  {
   "cell_type": "code",
   "execution_count": 91,
   "metadata": {},
   "outputs": [],
   "source": [
    "ar_fac1 = (xi_0 * np.sqrt(xi_0**2 - np.cos(theta)**2) - np.sin(theta)**1) / np.cos(theta)**2\n",
    "ar_fac2 = np.log( (xi_0 + np.sqrt(xi_0**2 - np.cos(theta)**2)) / (1+np.sin(theta)) )\n",
    "arpre_fac = pi*d**2*np.sin(theta)\n",
    "Area_2 = arpre_fac * ( ar_fac1 - ar_fac2 )"
   ]
  },
  {
   "cell_type": "code",
   "execution_count": 92,
   "metadata": {},
   "outputs": [
    {
     "data": {
      "text/plain": [
       "336.4760425959672"
      ]
     },
     "execution_count": 92,
     "metadata": {},
     "output_type": "execute_result"
    }
   ],
   "source": [
    "Area_2/(1.0E-9)**2"
   ]
  },
  {
   "cell_type": "code",
   "execution_count": null,
   "metadata": {},
   "outputs": [],
   "source": []
  }
 ],
 "metadata": {
  "kernelspec": {
   "display_name": "Python 3",
   "language": "python",
   "name": "python3"
  },
  "language_info": {
   "codemirror_mode": {
    "name": "ipython",
    "version": 3
   },
   "file_extension": ".py",
   "mimetype": "text/x-python",
   "name": "python",
   "nbconvert_exporter": "python",
   "pygments_lexer": "ipython3",
   "version": "3.7.2"
  }
 },
 "nbformat": 4,
 "nbformat_minor": 2
}
