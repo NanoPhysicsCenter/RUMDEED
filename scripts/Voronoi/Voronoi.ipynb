{
 "cells": [
  {
   "cell_type": "code",
   "execution_count": 2,
   "metadata": {},
   "outputs": [],
   "source": [
    "import numpy as np\n",
    "import matplotlib.pyplot as plt\n",
    "%matplotlib inline\n",
    "from scipy.spatial import Voronoi, voronoi_plot_2d"
   ]
  },
  {
   "cell_type": "markdown",
   "metadata": {},
   "source": [
    "# Voronoi diagram"
   ]
  },
  {
   "cell_type": "code",
   "execution_count": 27,
   "metadata": {},
   "outputs": [
    {
     "data": {
      "image/png": "[encoded data removed]",
      "text/plain": [
       "<Figure size 432x288 with 1 Axes>"
      ]
     },
     "metadata": {
      "needs_background": "light"
     },
     "output_type": "display_data"
    }
   ],
   "source": [
    "L = 1000.0 # Length of emitter in nm\n",
    "\n",
    "# Note: Points don't have to be within the emitter area.\n",
    "points = np.array([[0.5, 0], [0, 1], [0, 2.3], [1.1, 0], [0.8, 1], [1.4, 2],\n",
    "                   [2.33, 0], [2, 1.25], [2.1, 2.7]]) / 2.7 * L\n",
    "\n",
    "work_fun = np.array([1, 2, 3, 4, 5, 6, 7, 8, 9])\n",
    "\n",
    "test_point = np.array([1.5, 1.0]) / 2.7 * L\n",
    "\n",
    "vor = Voronoi(points)\n",
    "fig = voronoi_plot_2d(vor)\n",
    "\n",
    "for p, s in zip(points, work_fun):\n",
    "    plt.annotate(str(s), p+0.025*L)\n",
    "    \n",
    "plt.plot(test_point[0], test_point[1], '+r')\n",
    "plt.xlim([0.0, L])\n",
    "plt.ylim([0.0, L])\n",
    "\n",
    "plt.show()"
   ]
  },
  {
   "cell_type": "markdown",
   "metadata": {},
   "source": [
    "Above the Voronoi diagram is ploted along with the test point (+) where we want to find the value of the work function."
   ]
  },
  {
   "cell_type": "markdown",
   "metadata": {},
   "source": [
    "# Algorithm to find work function\n",
    "We find the work function by looping over all the points and finding which point is closest to out test point."
   ]
  },
  {
   "cell_type": "code",
   "execution_count": 26,
   "metadata": {},
   "outputs": [
    {
     "name": "stdout",
     "output_type": "stream",
     "text": [
      "[740.74074074 462.96296296]\n",
      "8\n"
     ]
    }
   ],
   "source": [
    "# Define a function to calculate the distance between two points\n",
    "# We could also use some thing like Manhattan distance.\n",
    "def Calc_Distance(p1, p2):\n",
    "    return np.sqrt( (p1[0] - p2[0])**2 + (p1[1] - p2[1])**2 )\n",
    "\n",
    "k = -1 # The closest point\n",
    "d = 9.9E100 # Distance to the closest point we have found so far\n",
    "\n",
    "for i in range(len(points)):\n",
    "    p = points[i]\n",
    "    d_p = np.sqrt( (p[0] - test_point[0])**2 + (p[1] - test_point[1])**2 )\n",
    "    \n",
    "    if (d_p < d): # Check if we found a closer point\n",
    "        k = i\n",
    "        d = d_p\n",
    "        \n",
    "print(points[k])\n",
    "print(work_fun[k])"
   ]
  },
  {
   "cell_type": "code",
   "execution_count": null,
   "metadata": {},
   "outputs": [],
   "source": []
  },
  {
   "cell_type": "code",
   "execution_count": null,
   "metadata": {},
   "outputs": [],
   "source": []
  }
 ],
 "metadata": {
  "kernelspec": {
   "display_name": "Python 3",
   "language": "python",
   "name": "python3"
  },
  "language_info": {
   "codemirror_mode": {
    "name": "ipython",
    "version": 3
   },
   "file_extension": ".py",
   "mimetype": "text/x-python",
   "name": "python",
   "nbconvert_exporter": "python",
   "pygments_lexer": "ipython3",
   "version": "3.7.3"
  }
 },
 "nbformat": 4,
 "nbformat_minor": 2
}
