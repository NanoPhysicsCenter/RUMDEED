{
 "cells": [
  {
   "cell_type": "code",
   "execution_count": 34,
   "metadata": {},
   "outputs": [],
   "source": [
    "import numpy as np\n",
    "import seaborn as sns\n",
    "import matplotlib.pyplot as plt\n",
    "%matplotlib inline\n",
    "from scipy.constants import pi, m_e, k"
   ]
  },
  {
   "cell_type": "code",
   "execution_count": 35,
   "metadata": {},
   "outputs": [],
   "source": [
    "T = 300.0"
   ]
  },
  {
   "cell_type": "code",
   "execution_count": 36,
   "metadata": {},
   "outputs": [],
   "source": [
    "def box_muller(mean, std):\n",
    "    \n",
    "    while True:\n",
    "        x = np.random.random(2)\n",
    "        \n",
    "        x = 2.0*x - 1.0\n",
    "        w = x[0]**2 + x[1]**2\n",
    "        \n",
    "        if (w < 1.0):\n",
    "            break\n",
    "    \n",
    "    y = x*np.sqrt(-2.0*np.log(w) / w)\n",
    "    return y*std + mean"
   ]
  },
  {
   "cell_type": "code",
   "execution_count": 37,
   "metadata": {},
   "outputs": [],
   "source": [
    "def MB():\n",
    "    mean = 0.0\n",
    "    std = np.sqrt(k * T / m_e )\n",
    "    v = np.array([0.0, 0.0, 0.0])\n",
    "    \n",
    "    v[0], v[1] = box_muller(mean, std)\n",
    "    v[2], _    = box_muller(mean, std)\n",
    "    \n",
    "    v[2] = np.abs(v[2]) # Positive velocity in z-direction\n",
    "    return v"
   ]
  },
  {
   "cell_type": "code",
   "execution_count": 53,
   "metadata": {},
   "outputs": [],
   "source": [
    "N = 500000\n",
    "speed = np.zeros([N])\n",
    "for i in range(N):\n",
    "    v = MB()\n",
    "    speed[i] = np.linalg.norm(v)\n",
    "    "
   ]
  },
  {
   "cell_type": "code",
   "execution_count": 54,
   "metadata": {},
   "outputs": [
    {
     "data": {
      "text/plain": [
       "<matplotlib.axes._subplots.AxesSubplot at 0x7f82a98717d0>"
      ]
     },
     "execution_count": 54,
     "metadata": {},
     "output_type": "execute_result"
    },
    {
     "data": {
      "image/png": "[encoded data removed]",
      "text/plain": [
       "<Figure size 432x288 with 1 Axes>"
      ]
     },
     "metadata": {
      "needs_background": "light"
     },
     "output_type": "display_data"
    }
   ],
   "source": [
    "sns.distplot(speed)"
   ]
  },
  {
   "cell_type": "code",
   "execution_count": 55,
   "metadata": {},
   "outputs": [
    {
     "name": "stdout",
     "output_type": "stream",
     "text": [
      "107687.20183538613\n",
      "2058723930.311274\n"
     ]
    }
   ],
   "source": [
    "print(np.mean(speed))\n",
    "print(np.var(speed))"
   ]
  },
  {
   "cell_type": "code",
   "execution_count": 56,
   "metadata": {},
   "outputs": [
    {
     "name": "stdout",
     "output_type": "stream",
     "text": [
      "107603.83650053783\n"
     ]
    }
   ],
   "source": [
    "a = np.sqrt(k*T/m_e)\n",
    "mean = 2*a*np.sqrt(2/pi)\n",
    "print(mean)"
   ]
  },
  {
   "cell_type": "code",
   "execution_count": 57,
   "metadata": {},
   "outputs": [
    {
     "name": "stdout",
     "output_type": "stream",
     "text": [
      "2062114202.7480311\n"
     ]
    }
   ],
   "source": [
    "var = a**2*(3*pi-8)/pi\n",
    "print(var)"
   ]
  },
  {
   "cell_type": "code",
   "execution_count": 58,
   "metadata": {},
   "outputs": [
    {
     "name": "stdout",
     "output_type": "stream",
     "text": [
      "83.36533484830579\n",
      "0.07747431463365075\n"
     ]
    }
   ],
   "source": [
    "print(np.abs(np.mean(speed) - mean))\n",
    "print(np.abs(np.mean(speed) - mean)/mean*100)"
   ]
  },
  {
   "cell_type": "code",
   "execution_count": 59,
   "metadata": {},
   "outputs": [
    {
     "name": "stdout",
     "output_type": "stream",
     "text": [
      "3390272.4367570877\n",
      "0.16440759838805805\n"
     ]
    }
   ],
   "source": [
    "print(np.abs(np.var(speed) - var))\n",
    "print(np.abs(np.var(speed) - var)/var*100)"
   ]
  },
  {
   "cell_type": "code",
   "execution_count": null,
   "metadata": {},
   "outputs": [],
   "source": []
  },
  {
   "cell_type": "code",
   "execution_count": null,
   "metadata": {},
   "outputs": [],
   "source": []
  }
 ],
 "metadata": {
  "kernelspec": {
   "display_name": "Python 3",
   "language": "python",
   "name": "python3"
  },
  "language_info": {
   "codemirror_mode": {
    "name": "ipython",
    "version": 3
   },
   "file_extension": ".py",
   "mimetype": "text/x-python",
   "name": "python",
   "nbconvert_exporter": "python",
   "pygments_lexer": "ipython3",
   "version": "3.7.6"
  }
 },
 "nbformat": 4,
 "nbformat_minor": 4
}
