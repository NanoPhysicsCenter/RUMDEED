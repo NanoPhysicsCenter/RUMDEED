{
 "cells": [
  {
   "cell_type": "code",
   "execution_count": 1,
   "metadata": {},
   "outputs": [],
   "source": [
    "import numpy as np\n",
    "import matplotlib.pyplot as plt\n",
    "%matplotlib inline\n",
    "import sys\n",
    "sys.path.append('/home/kristor/Work/Vacuum-MD/scripts/python_package')\n",
    "import Vacuum"
   ]
  },
  {
   "cell_type": "code",
   "execution_count": 2,
   "metadata": {},
   "outputs": [
    {
     "data": {
      "text/plain": [
       "array([[2. , 2.5, 2. ],\n",
       "       [2.5, 2. , 2.5],\n",
       "       [2. , 2. , 2.5]])"
      ]
     },
     "execution_count": 2,
     "metadata": {},
     "output_type": "execute_result"
    }
   ],
   "source": [
    "w_theta = np.ones((3, 3))*2.5\n",
    "\n",
    "# a\n",
    "#w_theta[0, 0] = 2.0\n",
    "#w_theta[1, 0] = 2.0\n",
    "#w_theta[0, 1] = 2.0\n",
    "#w_theta[0, 2] = 2.0\n",
    "#w_theta[1, 2] = 2.0\n",
    "#w_theta\n",
    "\n",
    "# b\n",
    "#w_theta[0, 0] = 2.0\n",
    "#w_theta[0, 1] = 2.0\n",
    "#w_theta[0, 2] = 2.0\n",
    "#w_theta[1, 1] = 2.0\n",
    "#w_theta[2, 1] = 2.0\n",
    "#w_theta\n",
    "\n",
    "# c\n",
    "w_theta[0, 0] = 2.0\n",
    "w_theta[0, 2] = 2.0\n",
    "w_theta[1, 1] = 2.0\n",
    "w_theta[2, 0] = 2.0\n",
    "w_theta[2, 1] = 2.0\n",
    "w_theta"
   ]
  },
  {
   "cell_type": "code",
   "execution_count": 3,
   "metadata": {},
   "outputs": [
    {
     "data": {
      "image/png": "[encoded data removed]",
      "text/plain": [
       "<Figure size 720x540 with 1 Axes>"
      ]
     },
     "metadata": {
      "needs_background": "light"
     },
     "output_type": "display_data"
    }
   ],
   "source": [
    "y_num = w_theta.shape[0]\n",
    "x_num = w_theta.shape[1]\n",
    "\n",
    "# Read emitter size\n",
    "x_start = 0.0\n",
    "x_end = 3.0\n",
    "y_start = 0.0\n",
    "y_end = 3.0\n",
    "\n",
    "extent = [x_start, x_end, y_start, y_end]\n",
    "\n",
    "plt.rc('text', usetex=True)\n",
    "plt.rc('font', family='serif', size=16)\n",
    "plt.rcParams['figure.figsize'] = [10, 7.5]\n",
    "\n",
    "plt.imshow(w_theta, interpolation='None', cmap='viridis', extent=extent)\n",
    "plt.xlabel('x [nm]')\n",
    "plt.ylabel('y [nm]')\n",
    "\n",
    "# Add text to the graph\n",
    "jump_x = (x_end - x_start) / (2.0 * x_num)\n",
    "jump_y = (y_end - y_start) / (2.0 * y_num)\n",
    "x_positions = np.linspace(start=x_start, stop=x_end, num=x_num, endpoint=False)\n",
    "y_positions = np.linspace(start=y_start, stop=y_end, num=y_num, endpoint=False)\n",
    "\n",
    "xy_pos = []\n",
    "\n",
    "for y_index, y in enumerate(y_positions):\n",
    "    for x_index, x in enumerate(x_positions):\n",
    "        y_index_ = y_num - y_index - 1\n",
    "        label = w_theta[y_index_, x_index]\n",
    "        text_x = x + jump_x\n",
    "        text_y = y + jump_y\n",
    "        if (w_theta[y_index_, x_index] == 2.0):\n",
    "            #print('')\n",
    "            #print(text_x)\n",
    "            #print(text_y)\n",
    "            xy_pos.append(np.array([text_x, text_y]))\n",
    "            \n",
    "        plt.text(text_x, text_y, label, color='black', ha='center', va='center', fontsize=22)"
   ]
  },
  {
   "cell_type": "code",
   "execution_count": null,
   "metadata": {},
   "outputs": [],
   "source": []
  },
  {
   "cell_type": "code",
   "execution_count": 5,
   "metadata": {},
   "outputs": [
    {
     "data": {
      "text/plain": [
       "19.821521196764447"
      ]
     },
     "execution_count": 5,
     "metadata": {},
     "output_type": "execute_result"
    }
   ],
   "source": [
    "Vacuum.Calc_Entropy(w_theta, 1.0, 1.0, 2.0, 2.5)"
   ]
  },
  {
   "cell_type": "code",
   "execution_count": null,
   "metadata": {},
   "outputs": [],
   "source": []
  }
 ],
 "metadata": {
  "kernelspec": {
   "display_name": "Python 3",
   "language": "python",
   "name": "python3"
  },
  "language_info": {
   "codemirror_mode": {
    "name": "ipython",
    "version": 3
   },
   "file_extension": ".py",
   "mimetype": "text/x-python",
   "name": "python",
   "nbconvert_exporter": "python",
   "pygments_lexer": "ipython3",
   "version": "3.7.2"
  }
 },
 "nbformat": 4,
 "nbformat_minor": 2
}
