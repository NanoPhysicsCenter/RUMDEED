{
 "cells": [
  {
   "cell_type": "code",
   "execution_count": 31,
   "metadata": {},
   "outputs": [],
   "source": [
    "import numpy as np\n",
    "import matplotlib\n",
    "import matplotlib.pyplot as plt\n",
    "%matplotlib inline\n",
    "from scipy.special import comb"
   ]
  },
  {
   "cell_type": "code",
   "execution_count": 32,
   "metadata": {},
   "outputs": [],
   "source": [
    "#w_theta = np.ones((6, 6))*2.0\n",
    "filename_wtheta = 'w_theta_max_6'\n",
    "w_theta = np.loadtxt(fname=filename_wtheta, skiprows=2)\n",
    "y_num = w_theta.shape[0]\n",
    "x_num = w_theta.shape[1]"
   ]
  },
  {
   "cell_type": "code",
   "execution_count": 33,
   "metadata": {},
   "outputs": [
    {
     "name": "stdout",
     "output_type": "stream",
     "text": [
      "819.2915529863986\n"
     ]
    }
   ],
   "source": [
    "x_start = -500.0\n",
    "x_end = 500.0\n",
    "y_start = -500.0\n",
    "y_end = 500.0\n",
    "\n",
    "jump_x = (x_end - x_start) / (2.0 * x_num)\n",
    "jump_y = (y_end - y_start) / (2.0 * y_num)\n",
    "\n",
    "x_positions = np.linspace(start=x_start, stop=x_end, num=x_num, endpoint=False)\n",
    "y_positions = np.linspace(start=y_start, stop=y_end, num=y_num, endpoint=False)\n",
    "\n",
    "xy_pos = []\n",
    "for y_index, y in enumerate(y_positions):\n",
    "    for x_index, x in enumerate(x_positions):\n",
    "        y_index_ = y_num - y_index - 1\n",
    "        text_x = x + jump_x\n",
    "        text_y = y + jump_y\n",
    "        if (w_theta[y_index_, x_index] == 2.5):\n",
    "            xy_pos.append(np.array([text_x, text_y]))\n",
    "\n",
    "r_mean = 0.0\n",
    "N = 0\n",
    "for i in range(len(xy_pos)):\n",
    "    xy_1 = xy_pos[i]\n",
    "    for j in range(i+1, len(xy_pos)):\n",
    "        xy_2 = xy_pos[j]\n",
    "        #print('')\n",
    "        #print(xy_1)\n",
    "        #print(xy_2)\n",
    "\n",
    "        r = np.linalg.norm(xy_1 - xy_2)\n",
    "        #print(r)\n",
    "        r_mean = r_mean + r\n",
    "        N = N + 1\n",
    "        \n",
    "r_mean = r_mean / comb(len(xy_pos), 2)\n",
    "#print(r_mean / comb(len(xy_pos), 2))\n",
    "#print(r_mean / N)\n",
    "print(r_mean)"
   ]
  },
  {
   "cell_type": "code",
   "execution_count": 3,
   "metadata": {},
   "outputs": [
    {
     "data": {
      "image/png": "[encoded data removed]",
      "text/plain": [
       "<Figure size 432x432 with 2 Axes>"
      ]
     },
     "metadata": {
      "needs_background": "light"
     },
     "output_type": "display_data"
    }
   ],
   "source": [
    "Z = w_theta\n",
    "x = np.linspace(-500, 500, 7)\n",
    "y = x\n",
    "\n",
    "plt.rc('text', usetex=True)\n",
    "plt.rc('font', family='serif', size=18)\n",
    "plt.rcParams['figure.figsize'] = [10, 7.5]\n",
    "plt.rc('xtick', labelsize=18)    # fontsize of the tick labels\n",
    "plt.rc('ytick', labelsize=18)    # fontsize of the tick labels\n",
    "plt.rc('axes', labelsize=18)    # fontsize of the x and y labels\n",
    "#plt.rcParams[\"figure.edgecolor\"] = 'r'\n",
    "\n",
    "cmap = plt.cm.jet  # define the colormap\n",
    "# extract all colors from the .jet map\n",
    "cmaplist = [cmap(i) for i in range(cmap.N)]\n",
    "# force the first color entry to be grey\n",
    "cmaplist[0] = (.5, .5, .5, 1.0)\n",
    "\n",
    "# create the new map\n",
    "cmap = matplotlib.colors.LinearSegmentedColormap.from_list('Custom cmap', cmaplist, cmap.N)\n",
    "\n",
    "# define the bins and normalize\n",
    "bounds = np.linspace(1.75, 2.75, 3)\n",
    "norm = matplotlib.colors.BoundaryNorm(bounds, cmap.N)\n",
    "\n",
    "fig, ax = plt.subplots(1, 1, figsize=(6, 6))  # setup the plot\n",
    "\n",
    "ax.pcolormesh(x, y, Z, edgecolors='k', linewidths=1.5, cmap=cmap, norm=norm)\n",
    "\n",
    "plt.xlabel('x [nm]')\n",
    "plt.ylabel('y [nm]')\n",
    "\n",
    "# create a second axes for the colorbar\n",
    "ax2 = fig.add_axes([0.925, 0.475, 0.15, 0.125])\n",
    "cb = matplotlib.colorbar.ColorbarBase(ax2, cmap=cmap, norm=norm,\n",
    "    spacing='uniform', ticks=[2.0, 2.5], boundaries=None, format='%.1f', drawedges=True, orientation='horizontal')\n",
    "cb.set_label('eV')\n",
    "\n",
    "#plt.tight_layout()\n",
    "plt.gca().set_aspect('equal', adjustable='box')\n",
    "#plt.rcParams['savefig.pad_inches'] = 0.0\n",
    "#plt.savefig('checkerboard_pattern.pdf', bbox_inches='tight')\n",
    "\n",
    "plt.show()"
   ]
  },
  {
   "cell_type": "code",
   "execution_count": null,
   "metadata": {},
   "outputs": [],
   "source": []
  }
 ],
 "metadata": {
  "kernelspec": {
   "display_name": "Python 3",
   "language": "python",
   "name": "python3"
  },
  "language_info": {
   "codemirror_mode": {
    "name": "ipython",
    "version": 3
   },
   "file_extension": ".py",
   "mimetype": "text/x-python",
   "name": "python",
   "nbconvert_exporter": "python",
   "pygments_lexer": "ipython3",
   "version": "3.7.3"
  }
 },
 "nbformat": 4,
 "nbformat_minor": 2
}
