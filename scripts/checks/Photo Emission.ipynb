{
 "cells": [
  {
   "cell_type": "code",
   "execution_count": 18,
   "metadata": {},
   "outputs": [],
   "source": [
    "import numpy as np\n",
    "from scipy.constants import m_e, epsilon_0, e, pi"
   ]
  },
  {
   "cell_type": "markdown",
   "metadata": {},
   "source": [
    "# System parameters"
   ]
  },
  {
   "cell_type": "code",
   "execution_count": 32,
   "metadata": {},
   "outputs": [],
   "source": [
    "time_scale = 1.0E-12 # ps\n",
    "length_scale = 1.0E-9 # nm\n",
    "\n",
    "V = 1.0E2 # Voltage [V]\n",
    "d = 1.0E6*length_scale # Gap spacing [m]\n",
    "r = 1.0E6*length_scale # Emitter radius [m]\n",
    "\n",
    "time_step = 0.25E-3*time_scale # Time step [s]\n",
    "\n",
    "A = pi*r**2 # Emitter area"
   ]
  },
  {
   "cell_type": "markdown",
   "metadata": {},
   "source": [
    "# Child-Langmuir Law in 1D\n",
    "$$\n",
    "J = \\frac{4\\epsilon_0}{9}\\sqrt{\\frac{2e}{m_e}}\\frac{V^{3/2}}{d^2}\n",
    "$$"
   ]
  },
  {
   "cell_type": "code",
   "execution_count": 33,
   "metadata": {},
   "outputs": [],
   "source": [
    "J_CL = 4*epsilon_0/9 * np.sqrt(2*e/m_e)*V**(3/2)/d**2\n",
    "I_CL = A*J_CL"
   ]
  },
  {
   "cell_type": "code",
   "execution_count": 34,
   "metadata": {},
   "outputs": [
    {
     "name": "stdout",
     "output_type": "stream",
     "text": [
      "11.441195370205508\n"
     ]
    }
   ],
   "source": [
    "N = I_CL*time_step/e\n",
    "print(N)"
   ]
  },
  {
   "cell_type": "markdown",
   "metadata": {},
   "source": [
    "# Child-Langmuir Law in 2D\n",
    "$$\n",
    "\\frac{J_{2D}}{J_{1D}} = 1 + \\frac{D}{4R}\n",
    "$$"
   ]
  },
  {
   "cell_type": "code",
   "execution_count": 35,
   "metadata": {},
   "outputs": [],
   "source": [
    "J_CL2D = J_CL*(1 + d/(4*r))\n",
    "I_CL2D = A*J_CL2D"
   ]
  },
  {
   "cell_type": "code",
   "execution_count": 36,
   "metadata": {},
   "outputs": [
    {
     "name": "stdout",
     "output_type": "stream",
     "text": [
      "14.301494212756882\n"
     ]
    }
   ],
   "source": [
    "N = I_CL2D*time_step/e\n",
    "print(N)"
   ]
  },
  {
   "cell_type": "code",
   "execution_count": null,
   "metadata": {},
   "outputs": [],
   "source": []
  },
  {
   "cell_type": "code",
   "execution_count": null,
   "metadata": {},
   "outputs": [],
   "source": []
  }
 ],
 "metadata": {
  "kernelspec": {
   "display_name": "Python 3",
   "language": "python",
   "name": "python3"
  },
  "language_info": {
   "codemirror_mode": {
    "name": "ipython",
    "version": 3
   },
   "file_extension": ".py",
   "mimetype": "text/x-python",
   "name": "python",
   "nbconvert_exporter": "python",
   "pygments_lexer": "ipython3",
   "version": "3.7.2"
  }
 },
 "nbformat": 4,
 "nbformat_minor": 2
}
