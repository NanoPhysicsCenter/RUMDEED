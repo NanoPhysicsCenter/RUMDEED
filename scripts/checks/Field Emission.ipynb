{
 "cells": [
  {
   "cell_type": "code",
   "execution_count": 26,
   "metadata": {},
   "outputs": [],
   "source": [
    "import numpy as np\n",
    "from scipy.constants import pi, e, hbar, m_e, epsilon_0"
   ]
  },
  {
   "cell_type": "markdown",
   "metadata": {},
   "source": [
    "# Constants"
   ]
  },
  {
   "cell_type": "code",
   "execution_count": 50,
   "metadata": {},
   "outputs": [],
   "source": [
    "a_FN = e**2/(16.0*pi**2*hbar) # A eV V^{-2}\n",
    "b_FN = -4.0/(3.0*hbar) * np.sqrt(2.0*m_e*e) # eV^{-3/2} V m^{-1}\n",
    "l_const = e / (4.0*pi*epsilon_0) # eV^{2} V^{-1} m"
   ]
  },
  {
   "cell_type": "markdown",
   "metadata": {},
   "source": [
    "# Parameters"
   ]
  },
  {
   "cell_type": "code",
   "execution_count": 51,
   "metadata": {},
   "outputs": [
    {
     "name": "stdout",
     "output_type": "stream",
     "text": [
      "-20.0\n",
      "6.250000000000001e-12\n"
     ]
    }
   ],
   "source": [
    "w_theta = 2.0 # work function in eV\n",
    "time_step = 0.25E-15 # Time step in sec\n",
    "\n",
    "V = 2.0E3 # Voltage\n",
    "d = 1000.0E-9 # Gap spacing\n",
    "L = 2500.0E-9 #Side length of emitter\n",
    "\n",
    "F = -V/d # Electric Field\n",
    "A = L**2 # Area of emitter\n",
    "\n",
    "print(F / 1.0E8)\n",
    "print(A)"
   ]
  },
  {
   "cell_type": "markdown",
   "metadata": {},
   "source": [
    "# Functions"
   ]
  },
  {
   "cell_type": "code",
   "execution_count": 59,
   "metadata": {},
   "outputs": [],
   "source": [
    "def t_y(float: F) -> float:\n",
    "    l = l_const * (-1.0*F) / w_theta**2 # l = y^2, y = 3.79E-4 * sqrt(F_old) / w_theta\n",
    "    t_y = 1.0 + l*( 1.0/9.0 - 1.0/18.0*np.log(l) )\n",
    "    return t_y\n",
    "\n",
    "def v_y(float: F) -> float:\n",
    "    l = l_const * (-1.0*F) / w_theta**2 # l = y^2, y = 3.79E-4 * sqrt(F_old) / w_theta\n",
    "    v_y = 1.0 - l + 1.0/6.0 * l * np.log(l)\n",
    "    return v_y\n",
    "\n",
    "def Elec_supply(float: A, F) -> float:\n",
    "    n = A * a_FN * F**2 * time_step / (e * w_theta * (t_y(F))**2)\n",
    "    return n\n",
    "\n",
    "def Escape_Prob(float: F) -> float:\n",
    "    D_f = np.exp( b_FN * (np.sqrt(w_theta)**3 * v_y(F) / (-1.0*F)) )\n",
    "    return D_f"
   ]
  },
  {
   "cell_type": "markdown",
   "metadata": {},
   "source": [
    "# Calculations"
   ]
  },
  {
   "cell_type": "code",
   "execution_count": 60,
   "metadata": {},
   "outputs": [
    {
     "name": "stdout",
     "output_type": "stream",
     "text": [
      "25160.18720340461\n",
      "0.09785864472996915\n",
      "\n",
      "2462.1418208774876\n"
     ]
    }
   ],
   "source": [
    "n = Elec_supply(A, F)\n",
    "print(n)\n",
    "\n",
    "D_f = Escape_Prob(F)\n",
    "print(D_f)\n",
    "\n",
    "print('')\n",
    "print(n*D_f)"
   ]
  },
  {
   "cell_type": "code",
   "execution_count": null,
   "metadata": {},
   "outputs": [],
   "source": []
  },
  {
   "cell_type": "code",
   "execution_count": null,
   "metadata": {},
   "outputs": [],
   "source": []
  },
  {
   "cell_type": "code",
   "execution_count": null,
   "metadata": {},
   "outputs": [],
   "source": []
  },
  {
   "cell_type": "code",
   "execution_count": null,
   "metadata": {},
   "outputs": [],
   "source": []
  },
  {
   "cell_type": "code",
   "execution_count": null,
   "metadata": {},
   "outputs": [],
   "source": []
  }
 ],
 "metadata": {
  "kernelspec": {
   "display_name": "Python 3",
   "language": "python",
   "name": "python3"
  },
  "language_info": {
   "codemirror_mode": {
    "name": "ipython",
    "version": 3
   },
   "file_extension": ".py",
   "mimetype": "text/x-python",
   "name": "python",
   "nbconvert_exporter": "python",
   "pygments_lexer": "ipython3",
   "version": "3.6.4"
  }
 },
 "nbformat": 4,
 "nbformat_minor": 2
}
