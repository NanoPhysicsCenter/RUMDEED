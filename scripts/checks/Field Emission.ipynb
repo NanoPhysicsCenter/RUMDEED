{
 "cells": [
  {
   "cell_type": "code",
   "execution_count": 1,
   "metadata": {},
   "outputs": [],
   "source": [
    "import numpy as np\n",
    "from scipy.constants import pi, e, hbar, m_e, epsilon_0"
   ]
  },
  {
   "cell_type": "markdown",
   "metadata": {},
   "source": [
    "# Constants"
   ]
  },
  {
   "cell_type": "code",
   "execution_count": 37,
   "metadata": {},
   "outputs": [],
   "source": [
    "a_FN = e**2/(16.0*pi**2*hbar) # A eV V^{-2}\n",
    "b_FN = -4.0/(3.0*hbar) * np.sqrt(2.0*m_e*e) # eV^{-3/2} V m^{-1}\n",
    "l_const = e / (4.0*pi*epsilon_0) # eV^{2} V^{-1} m"
   ]
  },
  {
   "cell_type": "markdown",
   "metadata": {},
   "source": [
    "# Parameters"
   ]
  },
  {
   "cell_type": "code",
   "execution_count": 38,
   "metadata": {},
   "outputs": [
    {
     "name": "stdout",
     "output_type": "stream",
     "text": [
      "-0.9999999999999999\n",
      "1e-12\n"
     ]
    }
   ],
   "source": [
    "w_theta = 4.7 # work function in eV\n",
    "time_step = (1.0E-4)*1.0E-12 # Time step in sec\n",
    "\n",
    "V = 1000.0E0 # Voltage\n",
    "d = 10.0E-6 # Gap spacing\n",
    "L = 1000.0E-9 #Side length of emitter\n",
    "\n",
    "F = -V/d # Electric Field\n",
    "A = L**2 # Area of emitter\n",
    "\n",
    "print(F / 1.0E8)\n",
    "print(A)"
   ]
  },
  {
   "cell_type": "markdown",
   "metadata": {},
   "source": [
    "# Functions"
   ]
  },
  {
   "cell_type": "code",
   "execution_count": 43,
   "metadata": {},
   "outputs": [],
   "source": [
    "def t_y(float: F) -> float:\n",
    "    l = l_const * (-1.0*F) / w_theta**2 # l = y^2, y = 3.79E-4 * sqrt(F_old) / w_theta\n",
    "    t_y = 1.0 + l*( 1.0/9.0 - 1.0/18.0*np.log(l) )\n",
    "    #return 1.0\n",
    "    return t_y\n",
    "\n",
    "def v_y(float: F) -> float:\n",
    "    l = l_const * (-1.0*F) / w_theta**2 # l = y^2, y = 3.79E-4 * sqrt(F_old) / w_theta\n",
    "    v_y = 1.0 - l + 1.0/6.0 * l * np.log(l)\n",
    "    #return 1.0\n",
    "    return v_y\n",
    "\n",
    "def Elec_supply(float: A, F) -> float:\n",
    "    n = A * a_FN * F**2 * time_step / (e * w_theta * (t_y(F))**2)\n",
    "    return n\n",
    "\n",
    "def Escape_Prob(float: F) -> float:\n",
    "    D_f = np.exp( b_FN * (np.sqrt(w_theta)**3 * v_y(F) / (-1.0*F)) )\n",
    "    return D_f\n",
    "\n",
    "def J_FN(float: F) -> float:\n",
    "    D_f = Escape_Prob(F)\n",
    "    return a_FN * F**2 / (w_theta * (t_y(F))**2)*D_f"
   ]
  },
  {
   "cell_type": "markdown",
   "metadata": {},
   "source": [
    "# Calculations"
   ]
  },
  {
   "cell_type": "code",
   "execution_count": 44,
   "metadata": {},
   "outputs": [
    {
     "name": "stdout",
     "output_type": "stream",
     "text": [
      "2.0366066720302456\n",
      "2.208404646641671e-299\n",
      "\n",
      "4.497651637893024e-299\n",
      "0\n"
     ]
    }
   ],
   "source": [
    "n = Elec_supply(A, F)\n",
    "print(n)\n",
    "\n",
    "D_f = Escape_Prob(F)\n",
    "print(D_f)\n",
    "\n",
    "print('')\n",
    "print(n*D_f)\n",
    "\n",
    "print(np.random.poisson(n*D_f))"
   ]
  },
  {
   "cell_type": "code",
   "execution_count": 45,
   "metadata": {},
   "outputs": [
    {
     "data": {
      "text/plain": [
       "7.206032302735029e-290"
      ]
     },
     "execution_count": 45,
     "metadata": {},
     "output_type": "execute_result"
    }
   ],
   "source": [
    "J_FN(F)"
   ]
  },
  {
   "cell_type": "code",
   "execution_count": 46,
   "metadata": {},
   "outputs": [
    {
     "data": {
      "text/plain": [
       "7.206032302735029e-302"
      ]
     },
     "execution_count": 46,
     "metadata": {},
     "output_type": "execute_result"
    }
   ],
   "source": [
    "A*J_FN(F)"
   ]
  },
  {
   "cell_type": "markdown",
   "metadata": {},
   "source": [
    "# Transit time"
   ]
  },
  {
   "cell_type": "code",
   "execution_count": 18,
   "metadata": {},
   "outputs": [
    {
     "name": "stdout",
     "output_type": "stream",
     "text": [
      "9.53782370320701e-13\n",
      "9537.82370320701\n",
      "0.953782370320701\n"
     ]
    }
   ],
   "source": [
    "t = np.sqrt(2.0*m_e*d**2/(e*V))\n",
    "print(t)\n",
    "print(t/time_step)\n",
    "print(t/1.0E-12)"
   ]
  },
  {
   "cell_type": "code",
   "execution_count": null,
   "metadata": {},
   "outputs": [],
   "source": []
  },
  {
   "cell_type": "code",
   "execution_count": 19,
   "metadata": {},
   "outputs": [
    {
     "name": "stdout",
     "output_type": "stream",
     "text": [
      "1.0\n",
      "3.0\n",
      "5.0\n",
      "7.0\n",
      "9.0\n",
      "\n",
      "2.0\n",
      "4.0\n",
      "6.0\n",
      "8.0\n"
     ]
    }
   ],
   "source": [
    "n = 10\n",
    "h = (10.0 - 0.0)/n\n",
    "for i in range(1, n, 2):\n",
    "    print(i*h)\n",
    "\n",
    "print('')\n",
    "for i in range(2, n-1, 2):\n",
    "    print(i*h)"
   ]
  },
  {
   "cell_type": "code",
   "execution_count": null,
   "metadata": {},
   "outputs": [],
   "source": []
  },
  {
   "cell_type": "markdown",
   "metadata": {},
   "source": [
    "ln of Fowler-Nordheim"
   ]
  },
  {
   "cell_type": "code",
   "execution_count": 20,
   "metadata": {},
   "outputs": [
    {
     "name": "stdout",
     "output_type": "stream",
     "text": [
      "-247.0267733780784\n",
      "-274.6577944940069\n"
     ]
    }
   ],
   "source": [
    "J_ln = np.log(a_FN*F**2/(w_theta*t_y(F)**2)) - b_FN*w_theta**(3/2)*v_y(F)/F\n",
    "I_ln = J_ln + np.log(A)\n",
    "print(J_ln)\n",
    "print(I_ln)"
   ]
  },
  {
   "cell_type": "code",
   "execution_count": 21,
   "metadata": {},
   "outputs": [
    {
     "name": "stdout",
     "output_type": "stream",
     "text": [
      "5.219578571877039e-108\n"
     ]
    }
   ],
   "source": [
    "print(np.exp(J_ln))"
   ]
  },
  {
   "cell_type": "code",
   "execution_count": 22,
   "metadata": {},
   "outputs": [
    {
     "data": {
      "text/plain": [
       "1.5414338731119224e-06"
      ]
     },
     "execution_count": 22,
     "metadata": {},
     "output_type": "execute_result"
    }
   ],
   "source": [
    "a_FN"
   ]
  },
  {
   "cell_type": "code",
   "execution_count": 23,
   "metadata": {},
   "outputs": [
    {
     "data": {
      "text/plain": [
       "-6830889658.440745"
      ]
     },
     "execution_count": 23,
     "metadata": {},
     "output_type": "execute_result"
    }
   ],
   "source": [
    "b_FN"
   ]
  },
  {
   "cell_type": "code",
   "execution_count": null,
   "metadata": {},
   "outputs": [],
   "source": []
  }
 ],
 "metadata": {
  "kernelspec": {
   "display_name": "Python 3",
   "language": "python",
   "name": "python3"
  },
  "language_info": {
   "codemirror_mode": {
    "name": "ipython",
    "version": 3
   },
   "file_extension": ".py",
   "mimetype": "text/x-python",
   "name": "python",
   "nbconvert_exporter": "python",
   "pygments_lexer": "ipython3",
   "version": "3.7.1"
  }
 },
 "nbformat": 4,
 "nbformat_minor": 2
}
