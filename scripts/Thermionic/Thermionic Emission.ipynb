{
 "cells": [
  {
   "cell_type": "code",
   "execution_count": 1,
   "metadata": {},
   "outputs": [],
   "source": [
    "import numpy as np\n",
    "import matplotlib.pyplot as plt\n",
    "%matplotlib inline\n",
    "from scipy.constants import e, m_e, h, k, pi, epsilon_0, hbar\n",
    "from scipy.integrate import quad\n",
    "from scipy.optimize import fmin, minimize_scalar\n",
    "k_b = k"
   ]
  },
  {
   "cell_type": "markdown",
   "metadata": {},
   "source": [
    "# Constants"
   ]
  },
  {
   "cell_type": "code",
   "execution_count": 2,
   "metadata": {},
   "outputs": [],
   "source": [
    "k_b_eV = k_b / e # Boltzman constant in eV/K\n",
    "lambda_R = 0.5\n",
    "A_0 = 4.0*pi*m_e*k_b**2*e / h**3\n",
    "A_G = lambda_R*A_0\n",
    "B_Sch_eV_prefix = e/(4.0*pi*epsilon_0)"
   ]
  },
  {
   "cell_type": "markdown",
   "metadata": {},
   "source": [
    "# System parameters"
   ]
  },
  {
   "cell_type": "code",
   "execution_count": 128,
   "metadata": {},
   "outputs": [
    {
     "name": "stdout",
     "output_type": "stream",
     "text": [
      "-0.9999999999999999\n"
     ]
    }
   ],
   "source": [
    "d = 1000.0*1.0E-9 # Gap spacing [m]\n",
    "V = 100.0 # Voltage [V]\n",
    "E_vac = -V/d # Electric field [V/m]\n",
    "print(E_vac/1.0E8)\n",
    "w_theta = 2.7 # Work function [eV]\n",
    "T_k = 1250.0 # Temperature [K]\n",
    "\n",
    "L = 1500.0E-9 # Side length [m]\n",
    "A = L**2 # Emitter area [m^2]\n",
    "\n",
    "time_step = 0.25E-12"
   ]
  },
  {
   "cell_type": "markdown",
   "metadata": {},
   "source": [
    "# Define functions"
   ]
  },
  {
   "cell_type": "code",
   "execution_count": 129,
   "metadata": {},
   "outputs": [],
   "source": [
    "def Elec_Supply(F: float) -> float:\n",
    "    val = A_G*T_k**2\n",
    "    return val\n",
    "\n",
    "def Escape_Prop(F: float) -> float:\n",
    "    delta_W = np.sqrt(B_Sch_eV_prefix*(-1.0*F)) # Units: mV*V/m = V^2, sqrt(V^2) = V = J/C = eV\n",
    "    val = np.exp( -1.0*(w_theta - delta_W)/(k_b_eV*T_k) )\n",
    "    return val\n",
    "\n",
    "# Current density [J/m^2]\n",
    "def Richardson_Dushman(F: float) -> float:\n",
    "    val = Elec_Supply(F)*Escape_Prop(F)\n",
    "    return val"
   ]
  },
  {
   "cell_type": "code",
   "execution_count": 130,
   "metadata": {},
   "outputs": [
    {
     "name": "stdout",
     "output_type": "stream",
     "text": [
      "413.6410754847381\n"
     ]
    }
   ],
   "source": [
    "J = Richardson_Dushman(E_vac)\n",
    "print(J)"
   ]
  },
  {
   "cell_type": "code",
   "execution_count": 131,
   "metadata": {},
   "outputs": [
    {
     "name": "stdout",
     "output_type": "stream",
     "text": [
      "0.0014522313079564642\n"
     ]
    }
   ],
   "source": [
    "n = J*A*time_step/e\n",
    "print(n)"
   ]
  },
  {
   "cell_type": "markdown",
   "metadata": {},
   "source": [
    "# General thermal-field emission equation\n",
    "## Kevin L. Jensen and Marc Cahay\n",
    "http://dx.doi.org/10.1063/1.2193776"
   ]
  },
  {
   "cell_type": "code",
   "execution_count": 3,
   "metadata": {},
   "outputs": [
    {
     "name": "stdout",
     "output_type": "stream",
     "text": [
      "0.35999113379876363\n"
     ]
    }
   ],
   "source": [
    "F = 4.3 # [eV/nm]\n",
    "hbar_eV = 6.582119514E-16\n",
    "h_eV = 4.135667662E-15\n",
    "mu = 7.0 # [eV]\n",
    "w_theta = 4.6 # [eV]\n",
    "#w_phi = 3.0029646231176823\n",
    "Q = e/(16*pi*epsilon_0)/1.0E-9 # [eV nm]\n",
    "T_k = 800 # [K]\n",
    "print(Q)"
   ]
  },
  {
   "cell_type": "code",
   "execution_count": 4,
   "metadata": {},
   "outputs": [],
   "source": [
    "def V(x, F):\n",
    "    val = mu + w_theta - F*x - Q/x\n",
    "    return val"
   ]
  },
  {
   "cell_type": "code",
   "execution_count": 15,
   "metadata": {},
   "outputs": [],
   "source": [
    "'''Python program for golden section search.  This implementation\n",
    "   reuses function evaluations, saving 1/2 of the evaluations per\n",
    "   iteration, and returns a bounding interval.'''\n",
    "\n",
    "import math\n",
    "invphi = (math.sqrt(5) - 1) / 2 # 1/phi\n",
    "invphi2 = (3 - math.sqrt(5)) / 2 # 1/phi^2\n",
    "\n",
    "def gss(f,a,b,tol=1e-15):\n",
    "    '''\n",
    "    Golden section search.\n",
    "    Given a function f with a single local minimum in\n",
    "    the interval [a,b], gss returns a subset interval\n",
    "    [c,d] that contains the minimum with d-c <= tol.\n",
    "\n",
    "    example:\n",
    "    >>> f = lambda x: (x-2)**2\n",
    "    >>> a = 1\n",
    "    >>> b = 5\n",
    "    >>> tol = 1e-5\n",
    "    >>> (c,d) = gss(f, a, b, tol)\n",
    "    >>> print (c,d)\n",
    "    (1.9999959837979107, 2.0000050911830893)\n",
    "    '''\n",
    "\n",
    "    (a,b)=(min(a,b),max(a,b))\n",
    "    h = b - a\n",
    "    if h <= tol: return (a,b)\n",
    "\n",
    "    # required steps to achieve tolerance\n",
    "    n = int(math.ceil(math.log(tol/h)/math.log(invphi)))\n",
    "\n",
    "    c = a + invphi2 * h\n",
    "    d = a + invphi * h\n",
    "    yc = f(c)\n",
    "    yd = f(d)\n",
    "\n",
    "    for k in range(n-1):\n",
    "        if yc < yd: # > for max or < for min\n",
    "            b = d\n",
    "            d = c\n",
    "            yd = yc\n",
    "            h = invphi*h\n",
    "            c = a + invphi2 * h\n",
    "            yc = f(c)\n",
    "        else:\n",
    "            a = c\n",
    "            c = d\n",
    "            yc = yd\n",
    "            h = invphi*h\n",
    "            d = a + invphi * h\n",
    "            yd = f(d)\n",
    "\n",
    "    if yc < yd: # > for max or < for min\n",
    "        return (a,d)\n",
    "    else:\n",
    "        return (c,b)"
   ]
  },
  {
   "cell_type": "code",
   "execution_count": 44,
   "metadata": {},
   "outputs": [],
   "source": [
    "def Calc_w_phi(F):\n",
    "    f = lambda x: -V(x, F)\n",
    "    a, b = gss(f, a=1.0E-9, b=15.0, tol=1.0E-15)\n",
    "    v_max = -f(a)\n",
    "    w_phi = v_max - mu\n",
    "    return w_phi"
   ]
  },
  {
   "cell_type": "code",
   "execution_count": 106,
   "metadata": {},
   "outputs": [],
   "source": [
    "def find_x_pm(E, F):\n",
    "    A = F\n",
    "    #B = E - mu - w_theta\n",
    "    B = w_theta + mu - E\n",
    "    C = Q\n",
    "    x_p = (B + np.sqrt(B**2-4*A*C)) / (2*A)\n",
    "    x_m = (B - np.sqrt(B**2-4*A*C)) / (2*A)\n",
    "    \n",
    "    # Return the larger number first (x_+ and x_-)\n",
    "    if (x_p > x_m):\n",
    "        return x_p, x_m\n",
    "    else:\n",
    "        return x_m, x_p\n",
    "    \n",
    "def theta_int(x, E, F):\n",
    "    return np.sqrt(V(x, F) - E)\n",
    "\n",
    "#def theta_int_an(x_p, x_m, E, F):\n",
    "#    val_p = -Q*np.log(x_p) - F*x_p**2/2.0+(mu + w_theta - E)*x_p\n",
    "#    val_m = -Q*np.log(x_m) - F*x_m**2/2.0+(mu + w_theta - E)*x_m\n",
    "    \n",
    "#    return val_p - val_m\n",
    "    \n",
    "def theta(E, F):\n",
    "    w_phi = Calc_w_phi(F)\n",
    "    if (E < (mu + w_phi)):\n",
    "        x_p, x_m = find_x_pm(E, F)\n",
    "        int_res, abserr = quad(theta_int, a=x_m, b=x_p, args=(E, F))\n",
    "        val = 2.0/hbar_eV*np.sqrt(2.0*m_e)*int_res\n",
    "        #val = 2.0/hbar_eV*np.sqrt(2.0*m_e)*theta_int_an(x_p, x_m, E, F)\n",
    "    else:\n",
    "        val = 1.0/(2.0*hbar_eV)*pi*np.sqrt(2.0*m_e)*Q**(1/4)*F**(-3/4)*(mu + w_phi - E)\n",
    "    return val\n",
    "\n",
    "def T_barrier(E):\n",
    "    Beta_T = 1.0/(k_b_eV*T_k)\n",
    "    C = m_e/(pi*Beta_T*h_eV**2)\n",
    "    val = C*np.log(1 + np.exp(Beta_T*(mu - E)))\n",
    "    return val\n",
    "\n",
    "def D_barrier(E, F):\n",
    "    val = 1.0/(1 + np.exp(theta(E, F)))\n",
    "    #val = np.exp(-2*theta(E, F))\n",
    "    return val\n",
    "\n",
    "def TunnelBarrier(E, F):\n",
    "    D = D_barrier(E, F)\n",
    "    T = T_barrier(E)\n",
    "    return T*D"
   ]
  },
  {
   "cell_type": "code",
   "execution_count": 107,
   "metadata": {},
   "outputs": [
    {
     "data": {
      "image/png": "[encoded data removed]",
      "text/plain": [
       "<Figure size 432x288 with 1 Axes>"
      ]
     },
     "metadata": {
      "needs_background": "light"
     },
     "output_type": "display_data"
    },
    {
     "name": "stdout",
     "output_type": "stream",
     "text": [
      "9.111654358751169\n"
     ]
    }
   ],
   "source": [
    "#F = 2000/1000.0E-9\n",
    "#print(F)\n",
    "x = np.linspace(0.01, 15.0, 5000)\n",
    "V_arr = V(x, F)\n",
    "plt.plot(x, V_arr)\n",
    "plt.show()\n",
    "print(np.max(V_arr))"
   ]
  },
  {
   "cell_type": "code",
   "execution_count": 108,
   "metadata": {},
   "outputs": [
    {
     "data": {
      "image/png": "[encoded data removed]",
      "text/plain": [
       "<Figure size 432x288 with 1 Axes>"
      ]
     },
     "metadata": {
      "needs_background": "light"
     },
     "output_type": "display_data"
    }
   ],
   "source": [
    "E_x = np.linspace(0.0, 25.0, 10000)\n",
    "T_arr = T_barrier(E_x)\n",
    "plt.plot(E_x, T_arr)\n",
    "plt.show()"
   ]
  },
  {
   "cell_type": "code",
   "execution_count": 109,
   "metadata": {},
   "outputs": [
    {
     "data": {
      "image/png": "[encoded data removed]",
      "text/plain": [
       "<Figure size 432x288 with 1 Axes>"
      ]
     },
     "metadata": {
      "needs_background": "light"
     },
     "output_type": "display_data"
    }
   ],
   "source": [
    "D_func = lambda x: D_barrier(x, F)\n",
    "D_arr = np.array(list(map(D_func, E_x)))\n",
    "plt.plot(E_x, D_arr)\n",
    "plt.show()"
   ]
  },
  {
   "cell_type": "code",
   "execution_count": 110,
   "metadata": {},
   "outputs": [
    {
     "data": {
      "image/png": "[encoded data removed]",
      "text/plain": [
       "<Figure size 432x288 with 1 Axes>"
      ]
     },
     "metadata": {
      "needs_background": "light"
     },
     "output_type": "display_data"
    }
   ],
   "source": [
    "DT_func = lambda x: TunnelBarrier(x, F)\n",
    "DT_arr = np.array(list(map(DT_func, E_x)))\n",
    "plt.plot(E_x, DT_arr)\n",
    "plt.show()"
   ]
  },
  {
   "cell_type": "code",
   "execution_count": 111,
   "metadata": {},
   "outputs": [
    {
     "data": {
      "image/png": "[encoded data removed]",
      "text/plain": [
       "<Figure size 432x288 with 1 Axes>"
      ]
     },
     "metadata": {
      "needs_background": "light"
     },
     "output_type": "display_data"
    }
   ],
   "source": [
    "theta_func = lambda x: theta(x, F)\n",
    "theta_arr = np.array(list(map(theta_func, E_x)))\n",
    "plt.plot(E_x, theta_arr)\n",
    "plt.show()"
   ]
  },
  {
   "cell_type": "code",
   "execution_count": 112,
   "metadata": {},
   "outputs": [],
   "source": [
    "def Find_Em(F):\n",
    "    DT_func = lambda x: -TunnelBarrier(x, F)\n",
    "    a, b = gss(DT_func, a=0.0, b=20.0, tol=1.0E-25)\n",
    "    #res = minimize_scalar(DT_func, bounds=[0,15], method='Brent')\n",
    "    #a = res.x\n",
    "    #a = fmin(DT_func, 0)\n",
    "    return a\n",
    "\n",
    "def Calc_Beta_F(F):\n",
    "    theta_func = lambda x: theta(x, F)\n",
    "    \n",
    "    Em = Find_Em(F)\n",
    "    \n",
    "    h = 0.001\n",
    "    val = -1.0*(-theta_func(Em + 2*h) + 8*theta_func(Em + h) - 8*theta_func(Em - h) + theta_func(Em - 2*h)) / (12*h)\n",
    "    return val\n",
    "\n",
    "def Calc_E0(F):\n",
    "    Em = Find_Em(F)\n",
    "    Beta_F = Calc_Beta_F(F)\n",
    "    theta_func = lambda x: theta(x, F)\n",
    "    val = Em + theta_func(Em)/Beta_F\n",
    "    return val"
   ]
  },
  {
   "cell_type": "code",
   "execution_count": 113,
   "metadata": {},
   "outputs": [
    {
     "data": {
      "image/png": "[encoded data removed]",
      "text/plain": [
       "<Figure size 432x288 with 1 Axes>"
      ]
     },
     "metadata": {
      "needs_background": "light"
     },
     "output_type": "display_data"
    }
   ],
   "source": [
    "F_arr = np.linspace(0.1, 10.0, 1000)\n",
    "Beta_T = 1.0/(k_b_eV*T_k)\n",
    "Beta_F = np.array(list(map(Calc_Beta_F, F_arr)))\n",
    "n = Beta_T/Beta_F\n",
    "\n",
    "plt.loglog(F_arr, n)\n",
    "plt.show()"
   ]
  },
  {
   "cell_type": "code",
   "execution_count": 114,
   "metadata": {},
   "outputs": [
    {
     "data": {
      "image/png": "[encoded data removed]",
      "text/plain": [
       "<Figure size 432x288 with 1 Axes>"
      ]
     },
     "metadata": {
      "needs_background": "light"
     },
     "output_type": "display_data"
    }
   ],
   "source": [
    "plt.plot(F_arr, n)\n",
    "plt.show()"
   ]
  },
  {
   "cell_type": "code",
   "execution_count": 105,
   "metadata": {},
   "outputs": [
    {
     "name": "stdout",
     "output_type": "stream",
     "text": [
      "Beta_F = 3.963897041837046\n",
      "E_0 = 8.220351449266419\n",
      "s = 4.837347499748709\n",
      "Beta_F*E_0 = 32.584626792608034\n",
      "E_m = 6.756085051969777\n",
      "w_phi = 2.1116576800330016\n"
     ]
    }
   ],
   "source": [
    "Beta_F = Calc_Beta_F(F)\n",
    "print('Beta_F = ' + str(Beta_F))\n",
    "E_0 = Calc_E0(F)\n",
    "print('E_0 = ' + str(E_0))\n",
    "s = Beta_F*(E_0 - mu)\n",
    "print('s = ' + str(s))\n",
    "print('Beta_F*E_0 = ' + str(Beta_F*E_0))\n",
    "E_m = Find_Em(F)\n",
    "print('E_m = ' + str(E_m))\n",
    "print('w_phi = ' + str(Calc_w_phi(F)))"
   ]
  },
  {
   "cell_type": "code",
   "execution_count": null,
   "metadata": {},
   "outputs": [],
   "source": []
  },
  {
   "cell_type": "code",
   "execution_count": null,
   "metadata": {},
   "outputs": [],
   "source": []
  },
  {
   "cell_type": "code",
   "execution_count": null,
   "metadata": {},
   "outputs": [],
   "source": []
  }
 ],
 "metadata": {
  "kernelspec": {
   "display_name": "Python 3",
   "language": "python",
   "name": "python3"
  },
  "language_info": {
   "codemirror_mode": {
    "name": "ipython",
    "version": 3
   },
   "file_extension": ".py",
   "mimetype": "text/x-python",
   "name": "python",
   "nbconvert_exporter": "python",
   "pygments_lexer": "ipython3",
   "version": "3.7.0"
  }
 },
 "nbformat": 4,
 "nbformat_minor": 2
}
