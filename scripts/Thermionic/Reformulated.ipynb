{
 "cells": [
  {
   "cell_type": "code",
   "execution_count": 2,
   "metadata": {},
   "outputs": [],
   "source": [
    "import numpy as np\n",
    "import matplotlib.pyplot as plt\n",
    "%matplotlib inline\n",
    "from scipy.constants import pi, m_e, k, e, epsilon_0, hbar"
   ]
  },
  {
   "cell_type": "markdown",
   "metadata": {},
   "source": [
    "# Parameters"
   ]
  },
  {
   "cell_type": "code",
   "execution_count": 3,
   "metadata": {},
   "outputs": [],
   "source": [
    "# Metal conditions\n",
    "mu = 7.0 # Chemical potential [eV]\n",
    "#T = 300.0 # Temperature [K]\n",
    "#w = 4.5 # Work function [eV]\n",
    "#F = 10 # Field [eV/nm]\n",
    "\n",
    "# Other parameters\n",
    "Q = e / (16*pi*epsilon_0) # [eV·m]"
   ]
  },
  {
   "cell_type": "code",
   "execution_count": 135,
   "metadata": {},
   "outputs": [],
   "source": [
    "def Find_Em():\n",
    "    delta = 12.0 # Given in Kevins paper\n",
    "    delta_E = 0.01\n",
    "    \n",
    "    E_min = mu - delta / beta_F(mu)\n",
    "    E_max = mu + w + delta / beta_T()\n",
    "    \n",
    "    \n",
    "    \n",
    "    E_m = 1/2*(E_min + E_max)\n",
    "    #print(E_m)\n",
    "    #print(h_p(E_m, 1))\n",
    "    #E_m = E_m - (delta_E/2)*(h_p(E_m, 1) - h_p(E_m, -1))/(h_p(E_m, 1) - 2*h_p(E_m, 0) + h_p(E_m, -1))\n",
    "    return E_m\n",
    "\n",
    "# Page 7: Equation for beta_F when E = mu\n",
    "def beta_F_mu():\n",
    "    beta_F = 2.05*np.sqrt(m_e)*Q**(1/4)/(hbar*F**(3/4))*(3.5963*sigma(y(mu)) - 0.76855*sigma_p(y(mu)))\n",
    "    return beta_F\n",
    "\n",
    "# Equation 28\n",
    "def beta_F(E):\n",
    "    y_v = y(E)\n",
    "    s_v = sigma(y_v)\n",
    "    sp_v = sigma_p(y_v)\n",
    "    \n",
    "    beta_F = 2*(m_e**(1/2)*Q**(1/4))/(hbar*F**(3/4))*((y_v + 3)*s_v - 2*y_v*(1-y_v**2)*sp_v)/(np.sqrt(y_v*(1+y_v)))\n",
    "    return beta_F\n",
    "\n",
    "def beta_T():\n",
    "    beta_T = 1.0/(k*T)\n",
    "    return beta_T\n",
    "\n",
    "def sigma(y_):\n",
    "    sigma_0 = pi/4\n",
    "    sigma_1 = 0.76524\n",
    "    sigma_2 = 0.73262\n",
    "    sigma_3 = 0.67303\n",
    "    sigma_4 = 2/3\n",
    "    \n",
    "    sigma = ((3*y_ - 1)*(2*y_*sigma_0 - (1 - y_)*sigma_4) + 8*y_*(1 - y_)*sigma_2) / (1 + y_)**2\n",
    "    return sigma\n",
    "\n",
    "# Note: The equation given in Kevins paper has two errors in it.\n",
    "# To get the correct one there should be a minus sign in front of (12y - 4) not a plus\n",
    "# and we need to swap sigma_2 and sigma_4.\n",
    "def sigma_p(y_):\n",
    "    sigma_0 = pi/4\n",
    "    sigma_1 = 0.76524\n",
    "    sigma_2 = 0.73262\n",
    "    sigma_3 = 0.67303\n",
    "    sigma_4 = 2/3\n",
    "    \n",
    "    sigma_p = 2*((7*y_ - 1)*sigma_0 + (5*y_ - 3)*sigma_4 - (12*y_ - 4)*sigma_2) / (1 + y_)**3\n",
    "    #sigma_p = 2*((7*sigma_0 - 12*sigma_2 + 5*sigma_4)*y_ - sigma_0 + 4*sigma_2 - 3*sigma_4)/(1 + y_)**3\n",
    "    return sigma_p\n",
    "\n",
    "# Equation 20\n",
    "def y(E):\n",
    "    y = np.sqrt(4*F*Q)/(mu + w - E)\n",
    "    return y\n",
    "\n",
    "# Gammow factor \\theta(E), see equation 23.\n",
    "def theta(E):\n",
    "    Gamm = 2*sigma(y(E))*Kappa(E)*L(E)\n",
    "    return Gamm\n",
    "\n",
    "# Equation 22\n",
    "def Kappa(E):\n",
    "    K = 2*m_e * (mu + w - E - np.sqrt(4*Q*F)) / (hbar**2)\n",
    "    return K\n",
    "\n",
    "# Equation 18\n",
    "def L(E):\n",
    "    in_sq = (mu + w - E)**2 - 4*Q*F\n",
    "    print(in_sq)\n",
    "    L = 1/F*np.sqrt(in_sq)\n",
    "    return L\n",
    "\n",
    "# Page 8\n",
    "def h_p(E_m, p):\n",
    "    delta_E = 0.01\n",
    "    h = np.log(dJ(E_m + p*delta_E))\n",
    "    return h\n",
    "\n",
    "# Page 7\n",
    "def dJ(E):\n",
    "    dJ = D(E)*f(E)\n",
    "    return dJ\n",
    "\n",
    "# Page 5: Transmission Probability\n",
    "def D(E):\n",
    "    D_inv = 1 + np.exp(theta(E))\n",
    "    return 1/D_inv\n",
    "\n",
    "# Page 5: Supply function\n",
    "def f(E):\n",
    "    f = m_e/(pi*beta_T()*hbar**2) * np.log( 1 + np.exp(beta_T()*(mu - E)))\n",
    "    return f"
   ]
  },
  {
   "cell_type": "markdown",
   "metadata": {},
   "source": [
    "# Sigma function tests"
   ]
  },
  {
   "cell_type": "code",
   "execution_count": 140,
   "metadata": {},
   "outputs": [
    {
     "name": "stdout",
     "output_type": "stream",
     "text": [
      "y = 0.5962774512033754\n",
      "sigma = 0.7603480548781582\n",
      "sigma_p = 0.08297153167372584\n"
     ]
    }
   ],
   "source": [
    "F = 5.0E9 # Field [V/m] (5.0 eV/nm)\n",
    "w = 4.5 # Work function [eV]\n",
    "y_sigma_test = y(mu)\n",
    "print('y = {}'.format(y_sigma_test)) # Value given in Kevins paper is y = 0.596 28\n",
    "print('sigma = {}'.format(sigma(y_sigma_test))) # Value given in Kevins paper is sigma = 0.760 35\n",
    "print('sigma_p = {}'.format(sigma_p(y_sigma_test))) # Value given in Kevins paper is sigma_p "
   ]
  },
  {
   "cell_type": "code",
   "execution_count": 141,
   "metadata": {},
   "outputs": [
    {
     "data": {
      "text/plain": [
       "[<matplotlib.lines.Line2D at 0x7f19c3416550>]"
      ]
     },
     "execution_count": 141,
     "metadata": {},
     "output_type": "execute_result"
    },
    {
     "data": {
      "image/png": "[encoded data removed]",
      "text/plain": [
       "<Figure size 432x288 with 1 Axes>"
      ]
     },
     "metadata": {
      "needs_background": "light"
     },
     "output_type": "display_data"
    }
   ],
   "source": [
    "y_val = np.linspace(0.0, 1.0, 100)\n",
    "x_val = (1-y_val)/(1+y_val)\n",
    "sigma_val = sigma(y_val)\n",
    "\n",
    "plt.plot(x_val, sigma_val)"
   ]
  },
  {
   "cell_type": "code",
   "execution_count": 142,
   "metadata": {},
   "outputs": [
    {
     "name": "stdout",
     "output_type": "stream",
     "text": [
      "7.0\n",
      "E_min 6.9999999989545625 and E_max 11.5\n",
      "11478449109.168346\n",
      "11478580725.415592\n",
      "2.4143243447168827e+20\n"
     ]
    }
   ],
   "source": [
    "print(mu)\n",
    "E_min = mu - 12.0 / beta_F(mu)\n",
    "E_max = mu + w + 12.0 / beta_T()\n",
    "print(f'E_min {E_min} and E_max {E_max}')\n",
    "print(beta_F(mu))\n",
    "print(beta_F_mu())\n",
    "print(beta_T())"
   ]
  },
  {
   "cell_type": "markdown",
   "metadata": {},
   "source": [
    "# Plot of dJ"
   ]
  },
  {
   "cell_type": "code",
   "execution_count": 134,
   "metadata": {},
   "outputs": [
    {
     "name": "stdout",
     "output_type": "stream",
     "text": [
      "E_min 6.999999997972669 and E_max 11.5\n",
      "[  5.76045467   1.53819293  -2.18850337  -5.41963423  -8.15519967\n",
      " -10.39519967 -12.13963424 -13.38850338 -14.14180708 -14.39954535]\n"
     ]
    },
    {
     "name": "stderr",
     "output_type": "stream",
     "text": [
      "/home/kristor/anaconda3/lib/python3.7/site-packages/ipykernel_launcher.py:76: RuntimeWarning: invalid value encountered in sqrt\n",
      "/home/kristor/anaconda3/lib/python3.7/site-packages/ipykernel_launcher.py:92: RuntimeWarning: overflow encountered in exp\n"
     ]
    },
    {
     "data": {
      "text/plain": [
       "[<matplotlib.lines.Line2D at 0x7f19c353fb50>]"
      ]
     },
     "execution_count": 134,
     "metadata": {},
     "output_type": "execute_result"
    },
    {
     "data": {
      "image/png": "[encoded data removed]",
      "text/plain": [
       "<Figure size 432x288 with 1 Axes>"
      ]
     },
     "metadata": {
      "needs_background": "light"
     },
     "output_type": "display_data"
    }
   ],
   "source": [
    "F = 10.0E9 # Field [V/m] (10 eV/nm)\n",
    "w = 4.5 # Work function [eV]\n",
    "T = 300.0 # Temperature  [K]\n",
    "mu = 7.0 # Chemical potential [eV]\n",
    "\n",
    "E_min = mu - 12.0 / beta_F(mu)\n",
    "E_max = mu + w + 12.0 / beta_T()\n",
    "print(f'E_min {E_min} and E_max {E_max}')\n",
    "\n",
    "E = np.linspace(E_min+0.01, E_max-0.01, 10)\n",
    "val = D(E)\n",
    "plt.plot(E, val)"
   ]
  },
  {
   "cell_type": "code",
   "execution_count": 85,
   "metadata": {},
   "outputs": [
    {
     "data": {
      "text/plain": [
       "0.04035464804945299"
      ]
     },
     "execution_count": 85,
     "metadata": {},
     "output_type": "execute_result"
    }
   ],
   "source": [
    "(mu + w - 7.7)**2 - 4*Q*F"
   ]
  },
  {
   "cell_type": "code",
   "execution_count": 5,
   "metadata": {},
   "outputs": [
    {
     "data": {
      "text/plain": [
       "0.9969486348916096"
      ]
     },
     "execution_count": 5,
     "metadata": {},
     "output_type": "execute_result"
    }
   ],
   "source": []
  },
  {
   "cell_type": "code",
   "execution_count": null,
   "metadata": {},
   "outputs": [],
   "source": []
  }
 ],
 "metadata": {
  "kernelspec": {
   "display_name": "Python 3",
   "language": "python",
   "name": "python3"
  },
  "language_info": {
   "codemirror_mode": {
    "name": "ipython",
    "version": 3
   },
   "file_extension": ".py",
   "mimetype": "text/x-python",
   "name": "python",
   "nbconvert_exporter": "python",
   "pygments_lexer": "ipython3",
   "version": "3.7.6"
  }
 },
 "nbformat": 4,
 "nbformat_minor": 4
}
