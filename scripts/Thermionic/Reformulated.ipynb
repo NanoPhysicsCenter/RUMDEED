{
 "cells": [
  {
   "cell_type": "code",
   "execution_count": 1,
   "metadata": {},
   "outputs": [],
   "source": [
    "import numpy as np\n",
    "import matplotlib.pyplot as plt\n",
    "%matplotlib inline\n",
    "from scipy.constants import pi, m_e, k, e, epsilon_0, hbar"
   ]
  },
  {
   "cell_type": "markdown",
   "metadata": {},
   "source": [
    "# Parameters"
   ]
  },
  {
   "cell_type": "code",
   "execution_count": 2,
   "metadata": {},
   "outputs": [],
   "source": [
    "# Metal conditions\n",
    "mu = 7.0 # Chemical potential [eV]\n",
    "#T = 300.0 # Temperature [K]\n",
    "#w = 4.5 # Work function [eV]\n",
    "#F = 10 # Field [eV/nm]\n",
    "\n",
    "# Other parameters\n",
    "Q = e / (16*pi*epsilon_0) # [?]"
   ]
  },
  {
   "cell_type": "code",
   "execution_count": 6,
   "metadata": {},
   "outputs": [],
   "source": [
    "def Find_Em():\n",
    "    delta = 12.0 # Given in Kevins paper\n",
    "    delta_E = 0.01\n",
    "    \n",
    "    E_min = mu - delta / beta_F()\n",
    "    E_max = mu + w + delta / beta_T()\n",
    "    \n",
    "    E_m = 1/2*(E_min + E_max)\n",
    "    E_m = E_m - 0.0\n",
    "    return None\n",
    "\n",
    "def beta_F():\n",
    "    beta_F = 2.05*np.sqrt(m_e)*Q**(1/4)/(hbar*F**(3/4))*(3.5963*sigma(y) - 0.76855*sigma_p(y))\n",
    "    return beta_F\n",
    "\n",
    "def beta_T():\n",
    "    beta_T = 1.0/(k*T)\n",
    "    return beta_T\n",
    "\n",
    "def sigma(y_):\n",
    "    sigma_0 = pi/4\n",
    "    sigma_1 = 0.76524\n",
    "    sigma_2 = 0.73262\n",
    "    sigma_3 = 0.67303\n",
    "    sigma_4 = 2/3\n",
    "    \n",
    "    sigma = ((3*y_ - 1)*(2*y_*sigma_0 - (1 - y_)*sigma_4) + 8*y_*(1 - y_)*sigma_2) / (1 + y_)**2\n",
    "    return sigma\n",
    "\n",
    "# Note: The equation given in Kevins paper has two errors in it.\n",
    "# To get the correct one there should be a minus sign in front of (12y - 4) not a plus\n",
    "# and we need to swap sigma_2 and sigma_4.\n",
    "def sigma_p(y_):\n",
    "    sigma_0 = pi/4\n",
    "    sigma_1 = 0.76524\n",
    "    sigma_2 = 0.73262\n",
    "    sigma_3 = 0.67303\n",
    "    sigma_4 = 2/3\n",
    "    \n",
    "    sigma_p = 2*((7*y_ - 1)*sigma_0 + (5*y_ - 3)*sigma_4 - (12*y_ - 4)*sigma_2) / (1 + y_)**3\n",
    "    #sigma_p = 2*((7*sigma_0 - 12*sigma_2 + 5*sigma_4)*y_ - sigma_0 + 4*sigma_2 - 3*sigma_4)/(1 + y_)**3\n",
    "    return sigma_p\n",
    "\n",
    "# Equation 20\n",
    "def y(E):\n",
    "    y = np.sqrt(4*F*Q)/(mu + w - E)\n",
    "    return y\n",
    "\n",
    "# Gammow factor \\theta(E), see equation 23.\n",
    "def Theta(E):\n",
    "    Gamm = 2*sigma(y(E))*Kappa(E)*L(E)\n",
    "    return Gamm\n",
    "\n",
    "# Equation 22\n",
    "def Kappa(E):\n",
    "    K = 2*m_e * (mu + w - E - np.sqrt(4*Q*F)) / (hbar**2)\n",
    "    return K\n",
    "\n",
    "# Equation 18\n",
    "def L(E):\n",
    "    L = 1/F*np.sqrt((mu + w - E)**2 - 4*Q*F)\n",
    "    return None\n",
    "\n",
    "# Page 8\n",
    "def h_p(E_m, p):\n",
    "    delta_E = 0.01\n",
    "    h = np.log(dJ(E_m + p*DeltaE))\n",
    "    return h\n",
    "\n",
    "# Page 7\n",
    "def dJ(E):\n",
    "    dJ = D(E)*f(E)\n",
    "    return dJ\n",
    "\n",
    "# Page 5: Transmission Probability\n",
    "def D(E):\n",
    "    D_inv = 1 + np.exp(theta(E))\n",
    "    return 1/D_inv\n",
    "\n",
    "# Page 5: Supply function\n",
    "def f(E):\n",
    "    f = m/(pi*beta_T()*hbar**2) * np.log( 1 + np.exp(beta_T*(mu - E)))\n",
    "    return f"
   ]
  },
  {
   "cell_type": "markdown",
   "metadata": {},
   "source": [
    "# Sigma function tests"
   ]
  },
  {
   "cell_type": "code",
   "execution_count": 4,
   "metadata": {},
   "outputs": [
    {
     "name": "stdout",
     "output_type": "stream",
     "text": [
      "y = 0.5962774512033754\n",
      "sigma = 0.7603480548781582\n",
      "sigma_p = 0.08297153167372584\n"
     ]
    }
   ],
   "source": [
    "F = 5.0E9 # Field [V/m] (5.0 eV/nm)\n",
    "w = 4.5 # Work function [eV]\n",
    "y_sigma_test = y(mu)\n",
    "print('y = {}'.format(y_sigma_test)) # Value given in Kevins paper is y = 0.596 28\n",
    "print('sigma = {}'.format(sigma(y_sigma_test))) # Value given in Kevins paper is sigma = 0.760 35\n",
    "print('sigma_p = {}'.format(sigma_p(y_sigma_test))) # Value given in Kevins paper is sigma_p "
   ]
  },
  {
   "cell_type": "code",
   "execution_count": null,
   "metadata": {},
   "outputs": [],
   "source": []
  },
  {
   "cell_type": "code",
   "execution_count": 60,
   "metadata": {},
   "outputs": [],
   "source": [
    "Find_Em()"
   ]
  },
  {
   "cell_type": "code",
   "execution_count": null,
   "metadata": {},
   "outputs": [],
   "source": []
  },
  {
   "cell_type": "code",
   "execution_count": 5,
   "metadata": {},
   "outputs": [
    {
     "data": {
      "text/plain": [
       "0.9969486348916096"
      ]
     },
     "execution_count": 5,
     "metadata": {},
     "output_type": "execute_result"
    }
   ],
   "source": []
  },
  {
   "cell_type": "code",
   "execution_count": null,
   "metadata": {},
   "outputs": [],
   "source": []
  }
 ],
 "metadata": {
  "kernelspec": {
   "display_name": "Python 3",
   "language": "python",
   "name": "python3"
  },
  "language_info": {
   "codemirror_mode": {
    "name": "ipython",
    "version": 3
   },
   "file_extension": ".py",
   "mimetype": "text/x-python",
   "name": "python",
   "nbconvert_exporter": "python",
   "pygments_lexer": "ipython3",
   "version": "3.7.6"
  }
 },
 "nbformat": 4,
 "nbformat_minor": 4
}
