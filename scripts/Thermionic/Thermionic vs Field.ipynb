{
 "cells": [
  {
   "cell_type": "markdown",
   "metadata": {},
   "source": [
    "# Thermal-Field emission vs Pure Field emission\n",
    "The function FJgtf is from Kevins book and calculates the thermal-field emission using his method."
   ]
  },
  {
   "cell_type": "code",
   "execution_count": 3,
   "metadata": {},
   "outputs": [],
   "source": [
    "using PyPlot\n",
    "#import PhysicalConstants.CODATA2018: ħ, m_e, e, ε_0"
   ]
  },
  {
   "cell_type": "code",
   "execution_count": 4,
   "metadata": {},
   "outputs": [],
   "source": [
    "# Variables\n",
    "rmo = 5.685629853;\n",
    "rkb = 1.0/11604.5192;\n",
    "rhbar = 0.658211899;\n",
    "alpha = 7.29735257E-3;\n",
    "c = 299.7924580;\n",
    "epso = 1.0/(4*pi*alpha*rhbar*c);\n",
    "Qo = alpha*rhbar*c/4;\n",
    "Ampcm2 = 1.602176565E10;\n",
    "Arld = (rmo*rkb^2)/(2*rhbar*(pi*rhbar)^2);"
   ]
  },
  {
   "cell_type": "code",
   "execution_count": 5,
   "metadata": {},
   "outputs": [
    {
     "data": {
      "text/plain": [
       "RNns (generic function with 1 method)"
      ]
     },
     "execution_count": 5,
     "metadata": {},
     "output_type": "execute_result"
    }
   ],
   "source": [
    "function FJgtf(Phi, Chem, Fld, Tmp)\n",
    "    betaT = 1.0/(rkb*Tmp)\n",
    "    y = sqrt(4*Qo*Fld)/Phi\n",
    "    phix = Phi - sqrt(4*Qo*Fld)\n",
    "    vy = 1.0 - (3.0 - log(y))*(y^2)/3\n",
    "    ty = 1.0 + (1.0 - log(y))*(y^2)/9\n",
    "    Qmu = 4*sqrt(2*rmo*Phi^3)*vy/(3*rhbar*Fld)\n",
    "    Bfmu = 2*sqrt(2*rmo*Phi)*ty/( rhbar*Fld)\n",
    "    Bfmphi = pi*sqrt(y*rmo*Phi) /( rhbar*Fld)\n",
    "    Tmin = (rhbar*Fld/(4*ty*rkb))*sqrt(2.0/(rmo*Phi))\n",
    "    Tmax = (rhbar*Fld/(pi*rkb)) *sqrt(1.0/(y*rmo*Phi))\n",
    "    \n",
    "    # Three regimes:\n",
    "    if(Tmp < Tmin) #Field Emission Regime\n",
    "        s = Qmu\n",
    "        rn = betaT/Bfmu\n",
    "    elseif (Tmp > Tmax) then #Thermal Emission Regime\n",
    "        s = Bfmphi*Phix\n",
    "        rn = betaT/BFmphi\n",
    "    else #Intermediate Regime\n",
    "        rn = 1.0\n",
    "        Ap = 3*(phix*(Bfmu + Bfmphi) - 2*Qmu)\n",
    "        Bp = 2*(3*Qmu - phix*(2*Bfmu + Bfmphi))\n",
    "        Cp = phix*(Bfmu - BetaT)\n",
    "        p = (-Bp-sqrt(Bp^2 - 4*Ap*Cp))/(2*Ap)\n",
    "        Em = Chem + p*phix\n",
    "        s = betaT*(Em - Chem + (ThetaE(Phi,Chem,Fld,Em)/BetaE(Phi,Chem,Fld,Em)))\n",
    "    end\n",
    "            \n",
    "    RJgtf = (Arld/(rkb*betaT)^2)*RNns(rn,s)*Ampcm2\n",
    "end\n",
    "\n",
    "function ThetaE(Phi, Chem, Field, E)\n",
    "    y = sqrt(4*Qo*Field)/Phi\n",
    "    phix = Phi - sqrt(4*Qo*Field)\n",
    "    vy = 1.0 - (3.0 - log(y))*(y^2)/3\n",
    "    ty = 1.0 + (1.0 - log(y))*(y^2)/9\n",
    "    Qmu = 4*sqrt(2*rmo*Phi^3)*vy/(3*rhbar*Field)\n",
    "    Bfmu = 2*sqrt(2*rmo*Phi)*ty/( rhbar*Field)\n",
    "    Bfmphi = pi*sqrt(y*rmo*Phi) /( rhbar*Field)\n",
    "    p = (E - Chem)/phix\n",
    "    ThetaE = Qmu*(2*p+1.0)*(1.0 - p)^2 - phix*Bfmu*p*(1.0 - p)^2 + phix*Bfmphi*(1.0 - p)*p^2\n",
    "end\n",
    "\n",
    "function BetaE(Phi, Chem, Field, E)\n",
    "    y = sqrt(4*Qo*Field)/Phi\n",
    "    phix = Phi - sqrt(4*Qo*Field)\n",
    "    vy = 1.0 - (3.0 - log(y))*(y^2)/3\n",
    "    ty = 1.0 + (1.0 - log(y))*(y^2)/9\n",
    "    Qmu = 4*sqrt(2*rmo*Phi^3)*vy/(3*rhbar*Field)\n",
    "    Bfmu = 2*sqrt(2*rmo*Phi)*ty/( rhbar*Field)\n",
    "    Bfmphi = pi*sqrt(y*rmo*Phi) /( rhbar*Field)\n",
    "    p = (E - Chem)/phix\n",
    "    BetaE = (6*Qmu/phix)*p*(1.0 - p) - Bfmu*(1.0 - p)*(3*p - 1.0) + Bfmphi*p*(3*p - 2.0)\n",
    "end\n",
    "\n",
    "function RNns(n, s)\n",
    "    x = n^2\n",
    "    y = 1.0/x\n",
    "    sn = -x*(0.10593434*x + 0.35506593)\n",
    "    sd = -y*(0.10593434*y + 0.35506593)\n",
    "    z = (n-1.0)*s\n",
    "    if(abs(z) > 0.001)\n",
    "        sng = (n^2 + 1.0)*((n^2)*exp(-s) - exp(-n*s))/(n^2 - 1.0)\n",
    "    else\n",
    "        sng = (0.5*(n^2 + 1.0)*exp(-s)/(n+1.0))* ((1.0-n)*(s^2) + 2*(1.0+n) + 2*s)\n",
    "    end\n",
    "    RNns = sng + sn*exp(-n*s) + x*sd*exp(-s)\n",
    "end"
   ]
  },
  {
   "cell_type": "code",
   "execution_count": 6,
   "metadata": {},
   "outputs": [
    {
     "data": {
      "text/plain": [
       "0.00041577168700286063"
      ]
     },
     "execution_count": 6,
     "metadata": {},
     "output_type": "execute_result"
    }
   ],
   "source": [
    "Phi = 4.5 # Work function [eV]\n",
    "Chem = 7.0 # Chemical potential [eV] (This number dosen't seem to affect the calculations in any way)\n",
    "F = 2.0 # Field [eV/nm] [GV/m]\n",
    "T = 0.01 # Temperature [K] \n",
    "FJgtf(Phi, Chem, F, T)"
   ]
  },
  {
   "cell_type": "markdown",
   "metadata": {},
   "source": [
    "Call this function to convert to and from the units Kevin uses</br>\n",
    "&nbsp;&nbsp;&nbsp;&nbsp;&nbsp;&nbsp;Field: V/m -> eV/nm</br>\n",
    "&nbsp;&nbsp;&nbsp;&nbsp;&nbsp;&nbsp;Current density: A/cm² -> A/m²</br>\n",
    "Note that in Kevins units the electron charge is e = 1. This means that 1 V = 1 eV and that 1 GV/m = 1 eV/nm. See Chapter 2 page 10 in Kevins book Introduction to the Physics of Electrom Emission."
   ]
  },
  {
   "cell_type": "code",
   "execution_count": 7,
   "metadata": {},
   "outputs": [
    {
     "data": {
      "text/plain": [
       "Get_Kevin_Jgtf (generic function with 1 method)"
      ]
     },
     "execution_count": 7,
     "metadata": {},
     "output_type": "execute_result"
    }
   ],
   "source": [
    "function Get_Kevin_Jgtf(F, T, w_theta)\n",
    "    F_evnm = abs(F) * 1.0E-9 # Kevin wants the field in eV/nm see note above (Basically we convert to GV/m).\n",
    "    Get_Kevin_Jgtf = FJgtf(w_theta, Chem, F_evnm, T) * 1.0E4 # Kevin returns in A/cm² convert to A/m²\n",
    "end"
   ]
  },
  {
   "cell_type": "markdown",
   "metadata": {},
   "source": [
    "# Fowler-Nordheim\n",
    "Define the Fowler-Nordheim function"
   ]
  },
  {
   "cell_type": "code",
   "execution_count": 8,
   "metadata": {},
   "outputs": [
    {
     "data": {
      "text/plain": [
       "J_FN (generic function with 1 method)"
      ]
     },
     "execution_count": 8,
     "metadata": {},
     "output_type": "execute_result"
    }
   ],
   "source": [
    "hbar = 1.054571817E-34\n",
    "e = 1.602176634E-19\n",
    "m_e = 9.1093837015E-31\n",
    "epsilon_0 = 8.8541878128E-12\n",
    "\n",
    "#------------------------------------------------------------------------------------------\n",
    "a_FN = e^2/(16.0*pi^2*hbar) # A eV V^{-2}\n",
    "b_FN = -4.0/(3.0*hbar) * sqrt(2.0*m_e*e) # eV^{-3/2} V m^{-1}\n",
    "l_const = e / (4.0*pi*epsilon_0) # eV^{2} V^{-1} m\n",
    "\n",
    "function t_y(F, w_theta)\n",
    "    l = l_const * F / w_theta^2 # l = y^2, y = 3.79E-4 * sqrt(F_old) / w_theta\n",
    "    t_y = 1.0 + l*( 1.0/9.0 - 1.0/18.0*log(l) )\n",
    "end\n",
    "\n",
    "function v_y(F, w_theta)\n",
    "    l = l_const * F / w_theta^2 # l = y^2, y = 3.79E-4 * sqrt(F_old) / w_theta\n",
    "    v_y = 1.0 - l + 1.0/6.0 * l * log(l)\n",
    "end\n",
    "\n",
    "# ----------------------------------------------------------------\n",
    "# Calculates the Fowler-Nordheim current density\n",
    "# F the field in V/m\n",
    "# w_theta the work function in eV\n",
    "function J_FN(F_, w_theta)\n",
    "    F = abs(F_)\n",
    "    J_FN = a_FN/(w_theta*t_y(F, w_theta)^2)*F^2 * exp(v_y(F, w_theta)*b_FN*w_theta^(3/2)/F)\n",
    "end"
   ]
  },
  {
   "cell_type": "markdown",
   "metadata": {},
   "source": [
    "# System\n",
    "Define system test parameters"
   ]
  },
  {
   "cell_type": "code",
   "execution_count": 9,
   "metadata": {},
   "outputs": [
    {
     "data": {
      "text/plain": [
       "2.0e9"
      ]
     },
     "execution_count": 9,
     "metadata": {},
     "output_type": "execute_result"
    }
   ],
   "source": [
    "V_0 = 2.0E3 # Voltage\n",
    "d = 1000.0E-9\n",
    "w_theta = 2.0\n",
    "T = 100.0\n",
    "time_step = 1.0E-4*1.0E-12\n",
    "L = 1000.0E-9\n",
    "A = L^2\n",
    "\n",
    "F = V_0/d"
   ]
  },
  {
   "cell_type": "code",
   "execution_count": 10,
   "metadata": {},
   "outputs": [
    {
     "data": {
      "text/plain": [
       "2.5441102800184567e11"
      ]
     },
     "execution_count": 10,
     "metadata": {},
     "output_type": "execute_result"
    }
   ],
   "source": [
    "Get_Kevin_Jgtf(F, T, w_theta)"
   ]
  },
  {
   "cell_type": "code",
   "execution_count": 11,
   "metadata": {},
   "outputs": [
    {
     "data": {
      "text/plain": [
       "2.5246632401237506e11"
      ]
     },
     "execution_count": 11,
     "metadata": {},
     "output_type": "execute_result"
    }
   ],
   "source": [
    "J_FN(F, w_theta)"
   ]
  },
  {
   "cell_type": "code",
   "execution_count": 12,
   "metadata": {},
   "outputs": [
    {
     "ename": "UndefVarError",
     "evalue": "UndefVarError: BetaT not defined",
     "output_type": "error",
     "traceback": [
      "UndefVarError: BetaT not defined",
      "",
      "Stacktrace:",
      " [1] FJgtf(::Float64, ::Float64, ::Float64, ::Float64) at ./In[5]:24",
      " [2] top-level scope at In[12]:2"
     ]
    }
   ],
   "source": [
    "Chem = 7.0\n",
    "FJgtf(w_theta, Chem, F, T)"
   ]
  },
  {
   "cell_type": "code",
   "execution_count": 13,
   "metadata": {},
   "outputs": [
    {
     "data": {
      "text/plain": [
       "157.577085231899"
      ]
     },
     "execution_count": 13,
     "metadata": {},
     "output_type": "execute_result"
    }
   ],
   "source": [
    "J_FN(F, w_theta)*time_step/e*A"
   ]
  },
  {
   "cell_type": "code",
   "execution_count": null,
   "metadata": {},
   "outputs": [],
   "source": []
  },
  {
   "cell_type": "code",
   "execution_count": 14,
   "metadata": {},
   "outputs": [
    {
     "data": {
      "text/plain": [
       "2.5441102800184567e11"
      ]
     },
     "execution_count": 14,
     "metadata": {},
     "output_type": "execute_result"
    }
   ],
   "source": [
    "Get_Kevin_Jgtf(F, T, 2.0)"
   ]
  },
  {
   "cell_type": "code",
   "execution_count": 15,
   "metadata": {},
   "outputs": [
    {
     "data": {
      "text/plain": [
       "3.34022947639468e9"
      ]
     },
     "execution_count": 15,
     "metadata": {},
     "output_type": "execute_result"
    }
   ],
   "source": [
    "Get_Kevin_Jgtf(F, T, 2.5)"
   ]
  },
  {
   "cell_type": "code",
   "execution_count": 16,
   "metadata": {},
   "outputs": [
    {
     "data": {
      "text/plain": [
       "76.16573346225526"
      ]
     },
     "execution_count": 16,
     "metadata": {},
     "output_type": "execute_result"
    }
   ],
   "source": [
    "Get_Kevin_Jgtf(F, T, 2.0)/Get_Kevin_Jgtf(F, T, 2.5)"
   ]
  },
  {
   "cell_type": "code",
   "execution_count": 17,
   "metadata": {},
   "outputs": [
    {
     "data": {
      "text/plain": [
       "0.013129263706172548"
      ]
     },
     "execution_count": 17,
     "metadata": {},
     "output_type": "execute_result"
    }
   ],
   "source": [
    "Get_Kevin_Jgtf(F, T, 2.5)/Get_Kevin_Jgtf(F, T, 2.0)"
   ]
  },
  {
   "cell_type": "code",
   "execution_count": 18,
   "metadata": {},
   "outputs": [
    {
     "data": {
      "text/plain": [
       "0.09927122065668276"
      ]
     },
     "execution_count": 18,
     "metadata": {},
     "output_type": "execute_result"
    }
   ],
   "source": [
    "(exp(v_y(F, 2.5)*b_FN*w_theta^(3/2)/F))/(exp(v_y(F, 2.0)*b_FN*w_theta^(3/2)/F))"
   ]
  },
  {
   "cell_type": "code",
   "execution_count": null,
   "metadata": {},
   "outputs": [],
   "source": []
  }
 ],
 "metadata": {
  "kernelspec": {
   "display_name": "Julia 1.3.1",
   "language": "julia",
   "name": "julia-1.3"
  },
  "language_info": {
   "file_extension": ".jl",
   "mimetype": "application/julia",
   "name": "julia",
   "version": "1.3.1"
  }
 },
 "nbformat": 4,
 "nbformat_minor": 4
}
