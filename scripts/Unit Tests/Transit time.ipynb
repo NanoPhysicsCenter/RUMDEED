{
 "cells": [
  {
   "cell_type": "code",
   "execution_count": 6,
   "metadata": {},
   "outputs": [],
   "source": [
    "import numpy as np"
   ]
  },
  {
   "cell_type": "code",
   "execution_count": 7,
   "metadata": {},
   "outputs": [],
   "source": [
    "# Physical constants\n",
    "pi = 3.14159265358979324 # Pi\n",
    "h = 6.626070040E-34 # Planck's constant (Js)\n",
    "k_b = 1.38064852E-23 # Boltzmann constant (J/K)\n",
    "c = 299792458.0 # Speed of light (m/s)\n",
    "mu_0 = 4.0*pi * 1E-7 # Vacuum permeability (H/m)\n",
    "epsilon_0 = 1.0/(mu_0 * c**2) # Vacuum permittivity (F/m)\n",
    "m_0 = 9.10938356E-31 # Free electron mass (kg)\n",
    "q_0 = -1.6021766208E-19 # Standard charge (C)"
   ]
  },
  {
   "cell_type": "code",
   "execution_count": 13,
   "metadata": {},
   "outputs": [],
   "source": [
    "# Scale factors\n",
    "time_scale = 1.0E-12\n",
    "length_scale = 1.0E-9\n",
    "\n",
    "# System parameters\n",
    "d = 1.0E6*length_scale # Gap spacing (nm)\n",
    "V_0 = 1.0E3 # Voltage over gap (V)\n",
    "delta_t = 0.25E-3*time_scale # Time step (ps)"
   ]
  },
  {
   "cell_type": "code",
   "execution_count": 14,
   "metadata": {},
   "outputs": [],
   "source": [
    "def Set_Init():\n",
    "    # Initial position, velocity and acceleration\n",
    "    r = np.array([0.0, 0.0, 1.0])*length_scale\n",
    "    v = np.array([0.0, 0.0, 0.0])\n",
    "    #a = np.array([0.0, 0.0, -1.0*V_0*q_0/(m_0*d)])\n",
    "    a = np.array([0.0, 0.0, 0.0])\n",
    "    return r, v, a"
   ]
  },
  {
   "cell_type": "code",
   "execution_count": 15,
   "metadata": {},
   "outputs": [
    {
     "name": "stdout",
     "output_type": "stream",
     "text": [
      "1.0663605747082954e-10\n",
      "426544.2298833181\n",
      "426545\n"
     ]
    }
   ],
   "source": [
    "# Theoretical value without image charge effects\n",
    "r, v, a = Set_Init()\n",
    "time_exp = np.sqrt(-2.0*d*(d - r[2])*m_0/(q_0*V_0))\n",
    "time_exp_int = time_exp / delta_t\n",
    "\n",
    "print(time_exp)\n",
    "print(time_exp_int)\n",
    "steps_exp = int( np.ceil(time_exp_int) )\n",
    "print(steps_exp)"
   ]
  },
  {
   "cell_type": "code",
   "execution_count": 16,
   "metadata": {},
   "outputs": [],
   "source": [
    "E = -1.0*V_0/d\n",
    "pre_fac_c = q_0**2/(4*pi*m_0*epsilon_0)\n",
    "div_fac_c = 1.0e-7 * c**2 / epsilon_0\n",
    "\n",
    "# Acceleration without image charge effects\n",
    "def Update_a():\n",
    "    F = E*q_0\n",
    "    return np.array([0.0, 0.0, F/m_0])\n",
    "\n",
    "# Acceleration with image charge effects\n",
    "def Update_a_ic():\n",
    "    # Acceleration due to electric field\n",
    "    a_E = np.array([0.0, 0.0, E*q_0/m_0])\n",
    "    \n",
    "    # Acceleration due to image charge above\n",
    "    r_a = r.copy()\n",
    "    r_a[2] = 2.0*d - r_a[2]\n",
    "    a_a = -1.0*pre_fac_c * (r - r_a) / np.linalg.norm(r - r_a)**3\n",
    "    \n",
    "     # Acceleration due to image charge below\n",
    "    r_b = r.copy()\n",
    "    r_b[2] = -1.0*r_b[2]\n",
    "    a_b = -1.0*pre_fac_c * (r - r_b) / np.linalg.norm(r - r_b)**3\n",
    "    \n",
    "    #a_ic = np.array([0.0, 0.0, q_0**2*div_fac_c*0.25*( 1.0/(d - r[2])**2 - 1.0/(r[2])**2 )]) / m_0\n",
    "    \n",
    "    #a_test = a_a + a_b\n",
    "    #if (abs((a_test[2]-a_ic[2])/a_test[2]) > 0.01):\n",
    "    #    print('Check!!!')\n",
    "    \n",
    "    #print(abs((a_test[2]-a_ic[2])))\n",
    "    #print(a_test[2])\n",
    "    #print(a_ic[2])\n",
    "    \n",
    "    #return a_E + a_ic\n",
    "    return a_E + a_a + a_b"
   ]
  },
  {
   "cell_type": "code",
   "execution_count": 12,
   "metadata": {},
   "outputs": [
    {
     "name": "stdout",
     "output_type": "stream",
     "text": [
      "Above d\n",
      "2\n",
      "[0.         0.         7.87742582]\n",
      "200.0\n"
     ]
    }
   ],
   "source": [
    "r, v, a = Set_Init()\n",
    "\n",
    "# Simplified Velocity Verlet algorithm\n",
    "for i in range(steps_exp+1000):\n",
    "    r = r + v*delta_t + 0.5*a*delta_t**2\n",
    "    a_new = Update_a_ic()\n",
    "    v = v + 0.5*(a + a_new)*delta_t\n",
    "    a = a_new\n",
    "    if (r[2] > d):\n",
    "        print('Above d')\n",
    "        steps_res = i+1\n",
    "        print(i+1) # range() starts from 0 so add +1\n",
    "        break\n",
    "    if (r[2] < 0.0):\n",
    "        print('Below 0.0')\n",
    "        steps_res = i+1\n",
    "        print(i+1)\n",
    "        break\n",
    "    \n",
    "print(r/1.0E-9)\n",
    "steps_res = steps_exp - 2\n",
    "diff_res = abs(steps_exp - steps_res)/steps_exp\n",
    "print(diff_res*100)"
   ]
  },
  {
   "cell_type": "code",
   "execution_count": null,
   "metadata": {},
   "outputs": [],
   "source": []
  },
  {
   "cell_type": "code",
   "execution_count": null,
   "metadata": {},
   "outputs": [],
   "source": []
  },
  {
   "cell_type": "code",
   "execution_count": null,
   "metadata": {},
   "outputs": [],
   "source": []
  }
 ],
 "metadata": {
  "kernelspec": {
   "display_name": "Python 3",
   "language": "python",
   "name": "python3"
  },
  "language_info": {
   "codemirror_mode": {
    "name": "ipython",
    "version": 3
   },
   "file_extension": ".py",
   "mimetype": "text/x-python",
   "name": "python",
   "nbconvert_exporter": "python",
   "pygments_lexer": "ipython3",
   "version": "3.7.1"
  }
 },
 "nbformat": 4,
 "nbformat_minor": 2
}
