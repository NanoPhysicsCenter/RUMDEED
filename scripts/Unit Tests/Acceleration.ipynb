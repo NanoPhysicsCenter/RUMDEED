{
 "cells": [
  {
   "cell_type": "code",
   "execution_count": 1,
   "metadata": {},
   "outputs": [],
   "source": [
    "import numpy as np"
   ]
  },
  {
   "cell_type": "code",
   "execution_count": 18,
   "metadata": {},
   "outputs": [],
   "source": [
    "# Physical constants\n",
    "pi = 3.14159265358979324 # Pi\n",
    "h = 6.626070040E-34 # Planck's constant (Js)\n",
    "k_b = 1.38064852E-23 # Boltzmann constant (J/K)\n",
    "c = 299792458.0 # Speed of light (m/s)\n",
    "mu_0 = 4.0*pi * 1E-7 # Vacuum permeability (H/m)\n",
    "epsilon_0 = 1.0/(mu_0 * c**2) # Vacuum permittivity (F/m)\n",
    "m_0 = 9.10938356E-31 # Free electron mass (kg)\n",
    "q_0 = 1.6021766208E-19 # Standard charge (C)\n",
    "\n",
    "# Defined constants\n",
    "pre_fac_c = q_0**2/(4*pi*m_0*epsilon_0)\n",
    "pre_fac_F = q_0/(4*pi*epsilon_0)\n",
    "pre_fac_E = q_0/m_0\n",
    "\n",
    "\n",
    "# Scale factors\n",
    "time_scale = 1.0E-12\n",
    "length_scale = 1.0E-9\n",
    "\n",
    "# System parameters\n",
    "d = 100.0*length_scale # Gap spacing (nm)\n",
    "V = 2.0 # Voltage over gap (V)\n",
    "delta_t = 0.25E-3*time_scale # Time step (ps)\n",
    "\n",
    "#a_scale_c = time_scale**2/length_scale**3\n",
    "#a_scale_E = time_scale**2/length_scale**3\n",
    "\n",
    "# Electric field in system\n",
    "E = np.array([0.0, 0.0, -V/d])"
   ]
  },
  {
   "cell_type": "code",
   "execution_count": 19,
   "metadata": {},
   "outputs": [],
   "source": [
    "# Particle locations\n",
    "# Electrons\n",
    "R_1 = np.array([3.0, -10.0, 2.0])*length_scale\n",
    "R_2 = np.array([-9.0, 26.0, 80.0])*length_scale\n",
    "\n",
    "# Holes\n",
    "R_3 = np.array([6.0, -24.0, 56.53])*length_scale\n",
    "\n",
    "# Image charge particles\n",
    "\n",
    "# Particle 1\n",
    "# Above (Charge: Positive)\n",
    "R_1a = R_1.copy()\n",
    "R_1a[2] = 2.0*d - R_1a[2]\n",
    "\n",
    "# Below (Charge: Positive)\n",
    "R_1b = R_1.copy()\n",
    "R_1b[2] = -1.0*R_1b[2]\n",
    "\n",
    "# Particle 2\n",
    "# Above (Charge: Positive)\n",
    "R_2a = R_2.copy()\n",
    "R_2a[2] = 2.0*d - R_2a[2]\n",
    "\n",
    "# Below (Charge: Positive)\n",
    "R_2b = R_2.copy()\n",
    "R_2b[2] = -1.0*R_2b[2]\n",
    "\n",
    "# Particle 3\n",
    "# Above (Charge: Negative)\n",
    "R_3a = R_3.copy()\n",
    "R_3a[2] = 2.0*d - R_3a[2]\n",
    "\n",
    "# Below (Charge: Negative)\n",
    "R_3b = R_3.copy()\n",
    "R_3b[2] = -1.0*R_3b[2]"
   ]
  },
  {
   "cell_type": "code",
   "execution_count": 20,
   "metadata": {},
   "outputs": [
    {
     "name": "stdout",
     "output_type": "stream",
     "text": [
      "Particle 1\n",
      "[-5.56478062e+14  8.31621767e+14 -1.22151251e+19]\n"
     ]
    }
   ],
   "source": [
    "# Acceleration particles 1 ----------------------------------------------------\n",
    "# Acceleration from other particles\n",
    "a_12 = +1.0*pre_fac_c * (R_1 - R_2) / np.linalg.norm(R_1 - R_2)**3\n",
    "a_13 = -1.0*pre_fac_c * (R_1 - R_3) / np.linalg.norm(R_1 - R_3)**3\n",
    "\n",
    "# Acceleration from image charge partners\n",
    "# Self (-q*+q = -q**2)\n",
    "a_11a = -1.0*pre_fac_c * (R_1 - R_1a) / np.linalg.norm(R_1 - R_1a)**3\n",
    "a_11b = -1.0*pre_fac_c * (R_1 - R_1b) / np.linalg.norm(R_1 - R_1b)**3\n",
    "# Other electron (-q*+q = -q**2)\n",
    "a_12a = -1.0*pre_fac_c * (R_1 - R_2a) / np.linalg.norm(R_1 - R_2a)**3\n",
    "a_12b = -1.0*pre_fac_c * (R_1 - R_2b) / np.linalg.norm(R_1 - R_2b)**3\n",
    "# Other hole (-q*-q = +q**2)\n",
    "a_13a = +1.0*pre_fac_c * (R_1 - R_3a) / np.linalg.norm(R_1 - R_3a)**3\n",
    "a_13b = +1.0*pre_fac_c * (R_1 - R_3b) / np.linalg.norm(R_1 - R_3b)**3\n",
    "\n",
    "# Acceleration from the electric field in the diode\n",
    "a_1E = -1.0*pre_fac_E * E\n",
    "\n",
    "# Total acceleration\n",
    "a_1 = a_12 + a_13 + a_11a + a_11b + a_12a + a_12b + a_13a + a_13b + a_1E\n",
    "\n",
    "print('Particle 1')\n",
    "print(a_1)"
   ]
  },
  {
   "cell_type": "code",
   "execution_count": 21,
   "metadata": {},
   "outputs": [
    {
     "name": "stdout",
     "output_type": "stream",
     "text": [
      "Particle 2\n",
      "[ 1.32595601e+16 -4.38454784e+16  3.63425018e+18]\n"
     ]
    }
   ],
   "source": [
    "# Acceleration particles 2 -----------------------------------------------------\n",
    "# Acceleration from other particles\n",
    "a_21 = +1.0*pre_fac_c * (R_2 - R_1) / np.linalg.norm(R_2 - R_1)**3\n",
    "a_23 = -1.0*pre_fac_c * (R_2 - R_3) / np.linalg.norm(R_2 - R_3)**3\n",
    "\n",
    "# Acceleration from image charge partners\n",
    "# Other electron (-q*+q = -q**2)\n",
    "a_21a = -1.0*pre_fac_c * (R_2 - R_1a) / np.linalg.norm(R_2 - R_1a)**3\n",
    "a_21b = -1.0*pre_fac_c * (R_2 - R_1b) / np.linalg.norm(R_2 - R_1b)**3\n",
    "# Self (-q*+q = -q**2) \n",
    "a_22a = -1.0*pre_fac_c * (R_2 - R_2a) / np.linalg.norm(R_2 - R_2a)**3\n",
    "a_22b = -1.0*pre_fac_c * (R_2 - R_2b) / np.linalg.norm(R_2 - R_2b)**3\n",
    "# Other hole (-q*-q = +q**2)\n",
    "a_23a = +1.0*pre_fac_c * (R_2 - R_3a) / np.linalg.norm(R_2 - R_3a)**3\n",
    "a_23b = +1.0*pre_fac_c * (R_2 - R_3b) / np.linalg.norm(R_2 - R_3b)**3\n",
    "\n",
    "# Acceleration from the electric field in the diode\n",
    "a_2E = -1.0*pre_fac_E * E\n",
    "\n",
    "a_2 = a_21 + a_23 + a_21a + a_21b + a_22a + a_22b + a_23a + a_23b + a_2E\n",
    "\n",
    "print('Particle 2')\n",
    "print(a_2)"
   ]
  },
  {
   "cell_type": "code",
   "execution_count": 22,
   "metadata": {},
   "outputs": [
    {
     "name": "stdout",
     "output_type": "stream",
     "text": [
      "Particle 3\n",
      "[-1.27030820e+16  4.30138567e+16 -3.51190760e+18]\n"
     ]
    }
   ],
   "source": [
    "# Acceleration particles 3 -----------------------------------------------------\n",
    "# Acceleration from other particles\n",
    "a_31 = -1.0*pre_fac_c * (R_3 - R_1) / np.linalg.norm(R_3 - R_1)**3\n",
    "a_32 = -1.0*pre_fac_c * (R_3 - R_2) / np.linalg.norm(R_3 - R_2)**3\n",
    "\n",
    "# Acceleration from image charge partners\n",
    "# Other electron (+q*+q = +q**2)\n",
    "a_31a = +1.0*pre_fac_c * (R_3 - R_1a) / np.linalg.norm(R_3 - R_1a)**3\n",
    "a_31b = +1.0*pre_fac_c * (R_3 - R_1b) / np.linalg.norm(R_3 - R_1b)**3\n",
    "# Other electron (+q*+q = +q**2) \n",
    "a_32a = +1.0*pre_fac_c * (R_3 - R_2a) / np.linalg.norm(R_3 - R_2a)**3\n",
    "a_32b = +1.0*pre_fac_c * (R_3 - R_2b) / np.linalg.norm(R_3 - R_2b)**3\n",
    "# Self (+q*-q = -q**2) \n",
    "a_33a = -1.0*pre_fac_c * (R_3 - R_3a) / np.linalg.norm(R_3 - R_3a)**3\n",
    "a_33b = -1.0*pre_fac_c * (R_3 - R_3b) / np.linalg.norm(R_3 - R_3b)**3\n",
    "\n",
    "# Acceleration from the electric field in the diode\n",
    "a_3E = +1.0*pre_fac_E * E\n",
    "\n",
    "a_3 = a_31 + a_32 + a_31a + a_31b + a_32a + a_32b + a_33a + a_33b + a_3E\n",
    "\n",
    "print('Particle 3')\n",
    "print(a_3)"
   ]
  },
  {
   "cell_type": "code",
   "execution_count": 24,
   "metadata": {},
   "outputs": [
    {
     "name": "stdout",
     "output_type": "stream",
     "text": [
      "pre_fac_F =  1.4399645351950547e-09\n",
      "diff =  [-7.550e-09  7.660e-09  9.444e-08]\n",
      "r =  9.50504692255646e-08\n",
      "Electric field\n",
      "[  -102526.05673208    421022.84663293 -20456407.74487634]\n"
     ]
    }
   ],
   "source": [
    "# Electric field at position ---------------------------------------------------\n",
    "R_4 = np.array([-4.55, -2.34, 96.44])*length_scale\n",
    "\n",
    "# From real particles\n",
    "E_1 = -1.0*pre_fac_F * (R_4 - R_1) / np.linalg.norm(R_4 - R_1)**3\n",
    "E_2 = -1.0*pre_fac_F * (R_4 - R_2) / np.linalg.norm(R_4 - R_2)**3\n",
    "E_3 = +1.0*pre_fac_F * (R_4 - R_3) / np.linalg.norm(R_4 - R_3)**3\n",
    "\n",
    "# From image charge particles\n",
    "# Electron 1\n",
    "E_1a = +1.0*pre_fac_F * (R_4 - R_1a) / np.linalg.norm(R_4 - R_1a)**3\n",
    "E_1b = +1.0*pre_fac_F * (R_4 - R_1b) / np.linalg.norm(R_4 - R_1b)**3\n",
    "# Electron 2\n",
    "E_2a = +1.0*pre_fac_F * (R_4 - R_2a) / np.linalg.norm(R_4 - R_2a)**3\n",
    "E_2b = +1.0*pre_fac_F * (R_4 - R_2b) / np.linalg.norm(R_4 - R_2b)**3\n",
    "# Hole 1\n",
    "E_3a = -1.0*pre_fac_F * (R_4 - R_3a) / np.linalg.norm(R_4 - R_3a)**3\n",
    "E_3b = -1.0*pre_fac_F * (R_4 - R_3b) / np.linalg.norm(R_4 - R_3b)**3\n",
    "\n",
    "print('pre_fac_F = ', pre_fac_F)\n",
    "print('diff = ', (R_4 - R_1))\n",
    "print('r = ', np.linalg.norm(R_4 - R_1))\n",
    "\n",
    "E_tot = E_1 + E_2 + E_3 + E_1a + E_1b + E_2a + E_2b + E_3a + E_3b + E\n",
    "print('Electric field')\n",
    "print(E_tot)"
   ]
  },
  {
   "cell_type": "code",
   "execution_count": null,
   "metadata": {},
   "outputs": [],
   "source": []
  },
  {
   "cell_type": "code",
   "execution_count": null,
   "metadata": {},
   "outputs": [],
   "source": []
  }
 ],
 "metadata": {
  "kernelspec": {
   "display_name": "Python 3",
   "language": "python",
   "name": "python3"
  },
  "language_info": {
   "codemirror_mode": {
    "name": "ipython",
    "version": 3
   },
   "file_extension": ".py",
   "mimetype": "text/x-python",
   "name": "python",
   "nbconvert_exporter": "python",
   "pygments_lexer": "ipython3",
   "version": "3.7.0"
  }
 },
 "nbformat": 4,
 "nbformat_minor": 2
}
