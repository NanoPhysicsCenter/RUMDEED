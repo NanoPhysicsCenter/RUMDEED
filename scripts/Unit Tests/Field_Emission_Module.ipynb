{
 "cells": [
  {
   "cell_type": "code",
   "execution_count": 6,
   "id": "a70b0d60-5f89-4986-9baa-c89414f49f11",
   "metadata": {},
   "outputs": [],
   "source": [
    "import numpy as np\n",
    "from scipy.constants import pi, e, hbar, m_e, epsilon_0"
   ]
  },
  {
   "cell_type": "markdown",
   "id": "3ff2da2b-2f62-46da-bbf7-545d1a53f862",
   "metadata": {},
   "source": [
    "Constants"
   ]
  },
  {
   "cell_type": "code",
   "execution_count": 7,
   "id": "9eaf2358-c42c-4dcd-aa2c-2d209e41d869",
   "metadata": {},
   "outputs": [],
   "source": [
    "a_FN = e**2/(16.0*pi**2*hbar) # A eV V^{-2}\n",
    "b_FN = -4.0/(3.0*hbar) * np.sqrt(2.0*m_e*e) # eV^{-3/2} V m^{-1}\n",
    "l_const = e / (4.0*pi*epsilon_0) # eV^{2} V^{-1} m"
   ]
  },
  {
   "cell_type": "markdown",
   "id": "22412bc4-175b-45c7-8572-381147945d1e",
   "metadata": {},
   "source": [
    "Parameters"
   ]
  },
  {
   "cell_type": "code",
   "execution_count": 8,
   "id": "d27ab692-669c-4dee-b05e-e39f5feb9d32",
   "metadata": {},
   "outputs": [],
   "source": [
    "w_theta = 4.7"
   ]
  },
  {
   "cell_type": "markdown",
   "id": "69aa9d64-a2a8-40ae-87b4-ed4d8921e3f9",
   "metadata": {},
   "source": [
    "Functions"
   ]
  },
  {
   "cell_type": "code",
   "execution_count": 11,
   "id": "d1ed8afe-1e87-465f-b70d-d3b1764303e5",
   "metadata": {},
   "outputs": [],
   "source": [
    "def t_y(F: float) -> float:\n",
    "    l = l_const * (-1.0*F) / w_theta**2 # l = y^2, y = 3.79E-4 * sqrt(F_old) / w_theta\n",
    "    t_y = 1.0 + l*( 1.0/9.0 - 1.0/18.0*np.log(l) )\n",
    "    #return 1.0\n",
    "    return t_y\n",
    "\n",
    "def v_y(F: float) -> float:\n",
    "    l = l_const * (-1.0*F) / w_theta**2 # l = y^2, y = 3.79E-4 * sqrt(F_old) / w_theta\n",
    "    v_y = 1.0 - l + 1.0/6.0 * l * np.log(l)\n",
    "    #return 1.0\n",
    "    return v_y\n",
    "\n",
    "def Elec_supply(A: float, F: float) -> float:\n",
    "    n = A * a_FN * F**2 * time_step / (e * w_theta * (t_y(F))**2)\n",
    "    return n\n",
    "\n",
    "def Escape_Prob(F: float) -> float:\n",
    "    D_f = np.exp( b_FN * (np.sqrt(w_theta)**3 * v_y(F) / (-1.0*F)) )\n",
    "    return D_f\n",
    "\n",
    "def J_FN(F: float) -> float:\n",
    "    D_f = Escape_Prob(F)\n",
    "    return a_FN * F**2 / (w_theta * (t_y(F))**2)*D_f"
   ]
  },
  {
   "cell_type": "markdown",
   "id": "f2ed1e06-0ae6-47e6-95f4-c53ff4ee21ce",
   "metadata": {},
   "source": [
    "# Tests for v_y"
   ]
  },
  {
   "cell_type": "code",
   "execution_count": null,
   "id": "734b9f8a-6766-4f4e-86df-d010b036261c",
   "metadata": {},
   "outputs": [],
   "source": []
  },
  {
   "cell_type": "markdown",
   "id": "c33455e2-85f7-4aa5-a986-ef6d38d30707",
   "metadata": {},
   "source": [
    "## Test 1"
   ]
  },
  {
   "cell_type": "code",
   "execution_count": 14,
   "id": "4453c117-62bd-4816-a241-26554a4ec973",
   "metadata": {},
   "outputs": [
    {
     "name": "stdout",
     "output_type": "stream",
     "text": [
      "Test 1: v_y\n",
      "0.8253581935658024\n"
     ]
    }
   ],
   "source": [
    "V = 2.0e3\n",
    "d = 1000.0e-9\n",
    "F = -1.0*V / d\n",
    "print('Test 1: v_y')\n",
    "print(v_y(F))"
   ]
  },
  {
   "cell_type": "code",
   "execution_count": null,
   "id": "c7447773-abe8-43c5-96c6-b1b22c69ed9b",
   "metadata": {},
   "outputs": [],
   "source": []
  }
 ],
 "metadata": {
  "kernelspec": {
   "display_name": "Python 3 (ipykernel)",
   "language": "python",
   "name": "python3"
  },
  "language_info": {
   "codemirror_mode": {
    "name": "ipython",
    "version": 3
   },
   "file_extension": ".py",
   "mimetype": "text/x-python",
   "name": "python",
   "nbconvert_exporter": "python",
   "pygments_lexer": "ipython3",
   "version": "3.8.12"
  }
 },
 "nbformat": 4,
 "nbformat_minor": 5
}
